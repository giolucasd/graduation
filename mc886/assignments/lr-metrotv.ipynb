{
  "nbformat": 4,
  "nbformat_minor": 0,
  "metadata": {
    "kernelspec": {
      "name": "python3",
      "display_name": "Python 3"
    },
    "language_info": {
      "codemirror_mode": {
        "name": "ipython",
        "version": 3
      },
      "file_extension": ".py",
      "mimetype": "text/x-python",
      "name": "python",
      "nbconvert_exporter": "python",
      "pygments_lexer": "ipython3",
      "version": "3.7.3"
    },
    "colab": {
      "name": "lr-metrotv.ipynb",
      "provenance": [],
      "collapsed_sections": [],
      "toc_visible": true,
      "machine_shape": "hm"
    },
    "accelerator": "GPU"
  },
  "cells": [
    {
      "cell_type": "markdown",
      "metadata": {
        "id": "FzaGU34nVQLN",
        "colab_type": "text"
      },
      "source": [
        "# Metro Interstate Traffic Volume \n",
        "\n",
        "Giovanne Lucas Dias Pereira Mariano, 173317, g173317@dac.unicamp.br\n",
        "\n",
        "This project is intended to find a linear regression model able to be a good predictor for the traffic volume in one interstate metro in the USA."
      ]
    },
    {
      "cell_type": "markdown",
      "metadata": {
        "id": "PvXY3t_8VyWb",
        "colab_type": "text"
      },
      "source": [
        "It has been developed in google colab. To access the dataset the drive with the dataset should be mounted."
      ]
    },
    {
      "cell_type": "code",
      "metadata": {
        "id": "H7MmiL5N6a8-",
        "colab_type": "code",
        "outputId": "ae093c98-a0d3-48a6-b266-ad3d7f6f07c7",
        "colab": {
          "base_uri": "https://localhost:8080/",
          "height": 54
        }
      },
      "source": [
        "from google.colab import drive\n",
        "drive.mount('/content/drive')"
      ],
      "execution_count": 1,
      "outputs": [
        {
          "output_type": "stream",
          "text": [
            "Drive already mounted at /content/drive; to attempt to forcibly remount, call drive.mount(\"/content/drive\", force_remount=True).\n"
          ],
          "name": "stdout"
        }
      ]
    },
    {
      "cell_type": "markdown",
      "metadata": {
        "id": "MamJSQgzWCbk",
        "colab_type": "text"
      },
      "source": [
        "#### 1. Imports important packages and the dataset:"
      ]
    },
    {
      "cell_type": "code",
      "metadata": {
        "scrolled": false,
        "id": "gAE1ZezW4TPh",
        "colab_type": "code",
        "outputId": "11ca9769-0e02-46c2-ae8b-19b166478a5f",
        "colab": {
          "base_uri": "https://localhost:8080/",
          "height": 153
        }
      },
      "source": [
        "import numpy as np\n",
        "import pandas as pd\n",
        "import matplotlib.pyplot as plt\n",
        "from sklearn.linear_model import SGDRegressor\n",
        "from sklearn.metrics import accuracy_score\n",
        "\n",
        "data = pd.read_csv(\"/content/drive/My Drive/Colab Notebooks/linear-regression/Metro_Interstate_Traffic_Volume.csv\")\n",
        "df = pd.DataFrame(data)\n",
        "\n",
        "print(\"\",df.head())"
      ],
      "execution_count": 2,
      "outputs": [
        {
          "output_type": "stream",
          "text": [
            "   holiday    temp  ...            date_time  traffic_volume\n",
            "0    None  288.28  ...  2012-10-02 09:00:00            5545\n",
            "1    None  289.36  ...  2012-10-02 10:00:00            4516\n",
            "2    None  289.58  ...  2012-10-02 11:00:00            4767\n",
            "3    None  290.13  ...  2012-10-02 12:00:00            5026\n",
            "4    None  291.14  ...  2012-10-02 13:00:00            4918\n",
            "\n",
            "[5 rows x 9 columns]\n"
          ],
          "name": "stdout"
        }
      ]
    },
    {
      "cell_type": "markdown",
      "metadata": {
        "id": "xT2B9nO7WXf9",
        "colab_type": "text"
      },
      "source": [
        "#### 2. Assigning value to non-numerical features and rescaling:"
      ]
    },
    {
      "cell_type": "code",
      "metadata": {
        "id": "w1olBsJY4TQL",
        "colab_type": "code",
        "outputId": "2064618c-7632-4807-f2be-ef1416910104",
        "colab": {
          "base_uri": "https://localhost:8080/",
          "height": 170
        }
      },
      "source": [
        "# function to assign a value to the non-numerical collums\n",
        "def valuation(df):\n",
        "    # the holidays are signed with 1 and the regular days with 0\n",
        "    dict_1 = {'None': 0.0, 'Columbus Day': 1.0, 'Veterans Day': 1.0, 'Thanksgiving Day': 1.0, 'Christmas Day': 1.0, \n",
        "              'New Years Day': 1.0, 'Washingtons Birthday': 1.0, 'Memorial Day': 1.0, 'Independence Day': 1.0, \n",
        "              'State Fair': 1.0, 'Labor Day': 1.0, 'Martin Luther King Jr Day': 1.0}\n",
        "    # a weight is designated to weather_main and weather description, \n",
        "    # with the most abruptal weathers receiving higher weights\n",
        "    dict_2 = {'Clear': 0.0, 'Clouds': 1.0, 'Mist': 2.0, 'Haze': 2.0, 'Fog': 2.0,  'Smoke': 2.0, \n",
        "              'Drizzle': 3.0, 'Rain': 4.0, 'Thunderstorm': 5.0, 'Snow': 5.0, 'Squall': 5.0}\n",
        "    dict_3 = {'scattered clouds': 0.0, 'broken clouds': 1.0, 'overcast clouds': 1.0, 'sky is clear': 0.0, 'few clouds': 0.0, \n",
        "              'light rain': 2.0, 'light intensity drizzle': 2.0, 'mist': 1.0, 'haze': 1.0, 'fog': 1.0, 'proximity shower rain': 3.0, \n",
        "              'drizzle': 2.0, 'moderate rain': 3.0, 'heavy intensity rain': 3.0, 'proximity thunderstorm': 4.0, \n",
        "              'thunderstorm with light rain': 4.0, 'proximity thunderstorm with rain': 4.0, 'heavy snow': 4.0, \n",
        "              'heavy intensity drizzle': 2.0, 'snow': 4.0, 'thunderstorm with heavy rain': 4.0, 'freezing rain': 3.0, \n",
        "              'shower snow': 4.0, 'light rain and snow': 4.0, 'light intensity shower rain': 3.0, 'SQUALLS': 4.0, \n",
        "              'thunderstorm with rain': 4.0, 'proximity thunderstorm with drizzle': 4.0, 'thunderstorm': 4.0, \n",
        "              'Sky is Clear': 0.0, 'very heavy rain': 3.0, 'thunderstorm with light drizzle': 4.0, 'light snow': 4.0, \n",
        "              'thunderstorm with drizzle': 4.0, 'smoke': 1.0, 'shower drizzle': 2.0, 'light shower snow': 4.0, 'sleet': 4.0}\n",
        "    # switch the values in the dictionary for the designated weights\n",
        "    for key, value in dict_1.items():\n",
        "        df.replace(key, value, inplace=True)\n",
        "    for key, value in dict_3.items():\n",
        "        df.replace(key, value, inplace=True)\n",
        "    for key, value in dict_2.items():\n",
        "        df.replace(key, value, inplace=True)\n",
        "    # extracts the schedule from the date_time, since its the important info and it allows numerical analysis\n",
        "    for i, value in enumerate(df['date_time']):\n",
        "        df.at[i,'date_time'] = float(df.at[i,'date_time'][11:13])\n",
        "    for i in range(df['traffic_volume'].size):\n",
        "        df.at[i,'traffic_volume'] = float(df.at[i,'traffic_volume'])\n",
        "    return df\n",
        "\n",
        "print(\"Printing values for festures after evaluation of the non-numerical ones:\\n\", df.head())\n",
        "df = valuation(df).values.astype(np.float32)"
      ],
      "execution_count": 3,
      "outputs": [
        {
          "output_type": "stream",
          "text": [
            "Printing values for festures after evaluation of the non-numerical ones:\n",
            "   holiday    temp  ...            date_time  traffic_volume\n",
            "0    None  288.28  ...  2012-10-02 09:00:00            5545\n",
            "1    None  289.36  ...  2012-10-02 10:00:00            4516\n",
            "2    None  289.58  ...  2012-10-02 11:00:00            4767\n",
            "3    None  290.13  ...  2012-10-02 12:00:00            5026\n",
            "4    None  291.14  ...  2012-10-02 13:00:00            4918\n",
            "\n",
            "[5 rows x 9 columns]\n"
          ],
          "name": "stdout"
        }
      ]
    },
    {
      "cell_type": "code",
      "metadata": {
        "id": "Fcc2WDkc4TQn",
        "colab_type": "code",
        "outputId": "95faab42-a87e-44a8-be55-7305c05eac02",
        "colab": {
          "base_uri": "https://localhost:8080/",
          "height": 85
        }
      },
      "source": [
        "# function to rescale all features: -0.5 < x < 0.5\n",
        "def feat_rescale(df):\n",
        "    maxx = np.max(df, axis=0)\n",
        "    half = maxx / 2\n",
        "    df = np.true_divide(df - half, maxx)*2\n",
        "    return df\n",
        "\n",
        "# randomly sort the data to split into train, validation ans test data sets\n",
        "selection = np.random.choice(range(df.shape[0]) , df.shape[0], replace=False)\n",
        "df = df[selection, :]\n",
        "X = df[:,:8]\n",
        "y = df[:,8]\n",
        "X = feat_rescale(X)\n",
        "np.set_printoptions(precision=2)\n",
        "print(\"Data after rescaling:\")\n",
        "print(\"X example:\\n\", X[10000])\n",
        "print(\"y example: \", y[10000])"
      ],
      "execution_count": 4,
      "outputs": [
        {
          "output_type": "stream",
          "text": [
            "Data after rescaling:\n",
            "X example:\n",
            " [-1.    0.89 -1.   -1.    0.8   0.6   0.   -0.22]\n",
            "y example:  5283.0\n"
          ],
          "name": "stdout"
        }
      ]
    },
    {
      "cell_type": "markdown",
      "metadata": {
        "id": "BT8z4J6nW1hF",
        "colab_type": "text"
      },
      "source": [
        "#### 3. Split the data for providing results and avoid overfitting:"
      ]
    },
    {
      "cell_type": "code",
      "metadata": {
        "id": "cXpnQxFY4TQ7",
        "colab_type": "code",
        "outputId": "bd931311-07fc-44f5-a99a-1ca82ced34c7",
        "colab": {
          "base_uri": "https://localhost:8080/",
          "height": 68
        }
      },
      "source": [
        "x_test = X[0:5000, :]\n",
        "x_val = X[5000:10000, :]\n",
        "x_train = X[10000:X.shape[0],:]\n",
        "\n",
        "y_test = y[0:5000]\n",
        "y_val = y[5000:10000]\n",
        "y_train = y[10000:y.shape[0]]\n",
        "print(\"Printing shape of training samples.\")\n",
        "print(\"X: (number of examples, number of features): \", x_test.shape)\n",
        "print(\"y: (number of examples,): \", y_test.shape)"
      ],
      "execution_count": 5,
      "outputs": [
        {
          "output_type": "stream",
          "text": [
            "Printing shape of training samples.\n",
            "X: (number of examples, number of features):  (5000, 8)\n",
            "y: (number of examples,):  (5000,)\n"
          ],
          "name": "stdout"
        }
      ]
    },
    {
      "cell_type": "markdown",
      "metadata": {
        "id": "eNlew7GJW--n",
        "colab_type": "text"
      },
      "source": [
        "#### 4. Implementation of Mini-Batch Gradient Descent:"
      ]
    },
    {
      "cell_type": "markdown",
      "metadata": {
        "id": "dKjSYcZtZmm7",
        "colab_type": "text"
      },
      "source": [
        "I defined a function to compute the accuracy based on the number of predictions in a 20% acceptance range, since this would be a decent estimate for the traffic volume in a metro."
      ]
    },
    {
      "cell_type": "code",
      "metadata": {
        "id": "qOi7Kmxm4TSH",
        "colab_type": "code",
        "colab": {}
      },
      "source": [
        "def hypothesis(x, theta):\n",
        "    return np.dot(theta,x.T)\n",
        "\n",
        "# A accuracy that I found to be more meaningful than regural ones\n",
        "def accuracy(X, y, theta):\n",
        "    # the higher the difference between predicted and real values, lower the accuracy\n",
        "    summ = float(0)\n",
        "    for i in range(X.shape[0]):\n",
        "        y_pred = hypothesis(X[i], theta)\n",
        "        if np.absolute(y_pred - y[i]) < (0.2 * y[i]):\n",
        "            summ += 1\n",
        "    acc = summ/X.shape[0]\n",
        "    return acc\n",
        "\n",
        "# Gradient Descent main function\n",
        "def gradientDescent(X, y, m, theta, loss, alpha):\n",
        "    cost = 0\n",
        "    gradient = np.zeros(len(theta))\n",
        "    for i in range(m):\n",
        "        cost += np.square(hypothesis(X[i], theta) - y[i])\n",
        "        for j in range(len(theta)):\n",
        "            gradient[j] += (hypothesis(X[i], theta) - y[i]) * X[i][j]\n",
        "    cost *= 1/(2*m)\n",
        "    loss.append(cost)\n",
        "    gradient *= 1/m\n",
        "    theta -= (alpha * gradient)\n",
        "    return theta\n",
        "\n",
        "# Linear regression with Mini-Batch Gradient Descent\n",
        "def linearRegression(X, y, X_val, y_val, loss, alpha = 0.001, batch_size = 100, num_iters=10):\n",
        "    # Prepare data and parameters\n",
        "    ones = np.ones([X.shape[0],1])\n",
        "    X = np.concatenate((ones,X),axis=1)\n",
        "    ones = np.ones([X_val.shape[0],1])\n",
        "    X_val = np.concatenate((ones,X_val),axis=1)\n",
        "    theta = np.random.uniform(0, 3, size=X.shape[1])\n",
        "    # Loop through epochs and batches\n",
        "    for epoch in range(num_iters):\n",
        "        cost = []\n",
        "        for i in range(0, X.shape[0], batch_size):\n",
        "            if (i + batch_size) < X.shape[0]:\n",
        "                theta = gradientDescent(X[i:i+batch_size, :], y[i:i+batch_size], batch_size, theta, cost, alpha)\n",
        "            else:\n",
        "                theta = gradientDescent(X[X.shape[0]-batch_size:X.shape[0], :], \n",
        "                                        y[X.shape[0]-batch_size:X.shape[0]], batch_size, theta, cost, alpha)\n",
        "        loss.append(sum(cost)/len(cost))\n",
        "        if (epoch == num_iters - 1) or (epoch % 5 == 0):\n",
        "            print(\"Epoch %d: Loss %.2f\" % (epoch, loss[-1]))\n",
        "            print(\"Training accuracy = %f   -   Validation accuracy = %f\" %(accuracy(X, y, theta),\n",
        "                                                                            accuracy(X_val, y_val, theta)))\n",
        "    return theta"
      ],
      "execution_count": 0,
      "outputs": []
    },
    {
      "cell_type": "code",
      "metadata": {
        "id": "8se2WlkyF4s4",
        "colab_type": "code",
        "colab": {}
      },
      "source": [
        "def plot_loss(cost, alpha):\n",
        "    n_iterations = [x for x in range(1,len(cost)+1)]\n",
        "    plt.plot(n_iterations, cost, label=str(alpha))\n",
        "    plt.xlabel('Epoch')\n",
        "    plt.ylabel('Cost')\n",
        "    plt.legend(loc='upper right', shadow=False, fontsize='large')"
      ],
      "execution_count": 0,
      "outputs": []
    },
    {
      "cell_type": "markdown",
      "metadata": {
        "id": "xLsSELv0XJ3t",
        "colab_type": "text"
      },
      "source": [
        "#### 5. Execute GD-based solution for 3 different learning rates:"
      ]
    },
    {
      "cell_type": "code",
      "metadata": {
        "scrolled": false,
        "id": "sOqw7v5Y4TSY",
        "colab_type": "code",
        "outputId": "2a902a2d-bcba-4b59-df7f-854cc15447d6",
        "colab": {
          "base_uri": "https://localhost:8080/",
          "height": 1000
        }
      },
      "source": [
        "# defining diferent learning rates and setting hyper parameters\n",
        "epochs = 25\n",
        "batch_size = 256\n",
        "alpha1 = 0.001\n",
        "alpha2 = 0.01\n",
        "alpha3 = 0.1\n",
        "\n",
        "# executing the linear regression for different learning rates\n",
        "print(\"*\"*75)\n",
        "cost = []\n",
        "theta = linearRegression(x_train, y_train, x_val, y_val, cost, alpha1, batch_size, epochs)\n",
        "print(\"Theta with learning rate 0.001:\\n\", theta)\n",
        "print(\"*\"*75)\n",
        "plot_loss(cost, alpha1)\n",
        "\n",
        "cost = []\n",
        "theta = linearRegression(x_train, y_train, x_val, y_val, cost, alpha2, batch_size, epochs)\n",
        "print(\"Theta with learning rate 0.01:\\n\", theta)\n",
        "print(\"*\"*75)\n",
        "plot_loss(cost, alpha2)\n",
        "\n",
        "cost = []\n",
        "theta = linearRegression(x_train, y_train, x_val, y_val, cost, alpha3, batch_size, epochs)\n",
        "print(\"Theta with learning rate 0.1:\\n\", theta)\n",
        "print(\"*\"*75)\n",
        "plot_loss(cost, alpha3)"
      ],
      "execution_count": 8,
      "outputs": [
        {
          "output_type": "stream",
          "text": [
            "***************************************************************************\n",
            "Epoch 0: Loss 4728034.91\n",
            "Training accuracy = 0.060465   -   Validation accuracy = 0.060000\n",
            "Epoch 5: Loss 1850197.16\n",
            "Training accuracy = 0.177076   -   Validation accuracy = 0.167600\n",
            "Epoch 10: Loss 1783872.88\n",
            "Training accuracy = 0.176945   -   Validation accuracy = 0.167800\n",
            "Epoch 15: Loss 1750968.70\n",
            "Training accuracy = 0.175924   -   Validation accuracy = 0.170200\n",
            "Epoch 20: Loss 1732859.96\n",
            "Training accuracy = 0.175584   -   Validation accuracy = 0.169000\n",
            "Epoch 24: Loss 1724156.48\n",
            "Training accuracy = 0.175400   -   Validation accuracy = 0.168800\n",
            "Theta with learning rate 0.001:\n",
            " [ 670.48 -673.17  604.7  -667.81 -663.22  240.25  -51.91 -193.01  830.41]\n",
            "***************************************************************************\n",
            "Epoch 0: Loss 2234251.05\n",
            "Training accuracy = 0.176500   -   Validation accuracy = 0.167400\n",
            "Epoch 5: Loss 1708522.32\n",
            "Training accuracy = 0.170872   -   Validation accuracy = 0.165200\n",
            "Epoch 10: Loss 1706680.66\n",
            "Training accuracy = 0.170270   -   Validation accuracy = 0.165800\n",
            "Epoch 15: Loss 1705671.53\n",
            "Training accuracy = 0.170375   -   Validation accuracy = 0.166200\n",
            "Epoch 20: Loss 1704819.84\n",
            "Training accuracy = 0.170375   -   Validation accuracy = 0.166600\n",
            "Epoch 24: Loss 1704226.64\n",
            "Training accuracy = 0.170401   -   Validation accuracy = 0.167400\n",
            "Theta with learning rate 0.01:\n",
            " [ 607.87 -608.31  919.28 -599.67 -579.81  225.52   95.33 -315.91 1111.93]\n",
            "***************************************************************************\n",
            "Epoch 0: Loss 1779257.37\n",
            "Training accuracy = 0.171841   -   Validation accuracy = 0.167400\n",
            "Epoch 5: Loss 1703658.82\n",
            "Training accuracy = 0.172129   -   Validation accuracy = 0.167600\n",
            "Epoch 10: Loss 1701548.11\n",
            "Training accuracy = 0.172861   -   Validation accuracy = 0.168800\n",
            "Epoch 15: Loss 1700696.91\n",
            "Training accuracy = 0.173385   -   Validation accuracy = 0.169200\n",
            "Epoch 20: Loss 1700334.54\n",
            "Training accuracy = 0.173542   -   Validation accuracy = 0.170000\n",
            "Epoch 24: Loss 1700197.02\n",
            "Training accuracy = 0.174066   -   Validation accuracy = 0.169400\n",
            "Theta with learning rate 0.1:\n",
            " [ 380.78 -540.03 2048.11 -333.19 -215.43  242.05  143.52 -393.14 1082.46]\n",
            "***************************************************************************\n"
          ],
          "name": "stdout"
        },
        {
          "output_type": "display_data",
          "data": {
            "image/png": "[encoded data removed]",
            "text/plain": [
              "<Figure size 432x288 with 1 Axes>"
            ]
          },
          "metadata": {
            "tags": []
          }
        }
      ]
    },
    {
      "cell_type": "markdown",
      "metadata": {
        "id": "6RFA7tqdXXEX",
        "colab_type": "text"
      },
      "source": [
        "The analisys of accuracy and loss along the epochs demonstrate that there's no overfitting in this model, since the trainning, validation and test accuracies are very close to each other."
      ]
    },
    {
      "cell_type": "code",
      "metadata": {
        "id": "-e1iNbcxN4j1",
        "colab_type": "code",
        "colab": {}
      },
      "source": [
        "def normalEquation(X, y):\n",
        "    x_transpose = np.transpose(X)\n",
        "    x_transpose_dot_x = x_transpose.dot(X)\n",
        "    temp_1 = np.linalg.inv(x_transpose_dot_x)\n",
        "    temp_2 = x_transpose.dot(y)\n",
        "    return temp_1.dot(temp_2)"
      ],
      "execution_count": 0,
      "outputs": []
    },
    {
      "cell_type": "code",
      "metadata": {
        "id": "sG0LW8MO-4V0",
        "colab_type": "code",
        "outputId": "bb184f4a-170c-42c8-aff7-64be29115e84",
        "colab": {
          "base_uri": "https://localhost:8080/",
          "height": 323
        }
      },
      "source": [
        "# prepare data to compute accuracy and loss for all models\n",
        "ones = np.ones([x_test.shape[0],1])\n",
        "x_test = np.concatenate((ones,x_test),axis=1)\n",
        "ones = np.ones([x_train.shape[0],1])\n",
        "x_train = np.concatenate((ones,x_train),axis=1)\n",
        "ones = np.ones([x_val.shape[0],1])\n",
        "x_val = np.concatenate((ones,x_val),axis=1)\n",
        "\n",
        "# prints results for MBGD\n",
        "print(\"*\"*75)\n",
        "print(\"Linear Regression with Mini-Batch Gradient Descent (Learning Rate: 0.1)\")\n",
        "print(\"Mini-Batch GD loss: %.2f\" % cost[-1])\n",
        "print(\"Training accuracy = %.2f%%\\nValidation accuracy = %.2f%%\" %(accuracy(x_train, y_train, theta)*100,\n",
        "                                                                        accuracy(x_val, y_val, theta)*100))\n",
        "print(\"Test accuracy = %.2f%%\" % (accuracy(x_test, y_test, theta)*100))\n",
        "\n",
        "# compute normal equation solution and print results\n",
        "normal_theta = normalEquation(x_train, y_train)\n",
        "cost = 0\n",
        "for i in range(x_train.shape[0]):\n",
        "    cost += np.square(hypothesis(x_train[i], normal_theta) - y_train[i])\n",
        "cost /= (2*x_train.shape[0])\n",
        "print(\"*\"*75)\n",
        "print(\"Linear Regression with Normal Equation\")\n",
        "print(\"Normal equation loss: %.2f\" % cost)\n",
        "print(\"Training accuracy = %.2f%%\\nValidation accuracy = %.2f%%\" %(accuracy(x_train, y_train, normal_theta)*100,\n",
        "                                                                        accuracy(x_val, y_val, normal_theta)*100))\n",
        "print(\"Test accuracy = %.2f%%\" % (accuracy(x_test, y_test, normal_theta)*100))\n",
        "\n",
        "# compute sgdregressor solution and print results\n",
        "sgd_model = SGDRegressor(max_iter=6000, penalty=None, eta0=0.01)\n",
        "sgd_model.fit(x_train, y_train)\n",
        "sgd_theta = sgd_model.coef_\n",
        "print(\"*\"*75)\n",
        "print(\"Linear Regression with SGDRegressor\")\n",
        "print(\"Training accuracy = %.2f%%\\nValidation accuracy = %.2f%%\" %(accuracy(x_train, y_train, sgd_theta)*100,\n",
        "                                                                        accuracy(x_val, y_val, sgd_theta)*100))\n",
        "print(\"Test accuracy = %.2f%%\" % (accuracy(x_test, y_test, sgd_theta)*100))\n",
        "print(\"*\"*75)"
      ],
      "execution_count": 10,
      "outputs": [
        {
          "output_type": "stream",
          "text": [
            "***************************************************************************\n",
            "Linear Regression with Mini-Batch Gradient Descent (Learning Rate: 0.1)\n",
            "Mini-Batch GD loss: 1700197.02\n",
            "Training accuracy = 17.41%\n",
            "Validation accuracy = 16.94%\n",
            "Test accuracy = 17.48%\n",
            "***************************************************************************\n",
            "Linear Regression with Normal Equation\n",
            "Normal equation loss: 1697758.63\n",
            "Training accuracy = 17.40%\n",
            "Validation accuracy = 16.94%\n",
            "Test accuracy = 17.46%\n",
            "***************************************************************************\n",
            "Linear Regression with SGDRegressor\n",
            "Training accuracy = 14.82%\n",
            "Validation accuracy = 14.18%\n",
            "Test accuracy = 14.86%\n",
            "***************************************************************************\n"
          ],
          "name": "stdout"
        }
      ]
    },
    {
      "cell_type": "markdown",
      "metadata": {
        "id": "JdZ9A-u2YZbn",
        "colab_type": "text"
      },
      "source": [
        "This results shows us that normal equation and GD-based solutions are almost equivalent, as expected, while the SGDRegressor didn't reached the same resuts, possibly because the parameters hasn't been studied enough to maximize the solution, but that doesn't represent a big interfence in the conclusions. However, the linear model didn't performed as good as expectations could be. Therefore, we may conclude that the dataset doesn't present a highly linearly correlated set of features or that the valuation of non-numerical features was poorly linked with domain knowledge."
      ]
    }
  ]
}