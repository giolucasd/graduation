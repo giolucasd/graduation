{
  "nbformat": 4,
  "nbformat_minor": 0,
  "metadata": {
    "kernelspec": {
      "name": "python3",
      "display_name": "Python 3"
    },
    "language_info": {
      "codemirror_mode": {
        "name": "ipython",
        "version": 3
      },
      "file_extension": ".py",
      "mimetype": "text/x-python",
      "name": "python",
      "nbconvert_exporter": "python",
      "pygments_lexer": "ipython3",
      "version": "3.7.3"
    },
    "colab": {
      "name": "dim-red-fmnist.ipynb",
      "provenance": [],
      "collapsed_sections": []
    },
    "accelerator": "GPU"
  },
  "cells": [
    {
      "cell_type": "markdown",
      "metadata": {
        "id": "9S7-SK40GQXb",
        "colab_type": "text"
      },
      "source": [
        "## Classifying images using the Fashion-MNIST\n",
        "\n",
        "Giovanne Lucas, 173317, g173317@dac.unicamp.br\n",
        "\n",
        "Exploring machine learning techniques by using dimensionality reduction techniques."
      ]
    },
    {
      "cell_type": "markdown",
      "metadata": {
        "id": "FcICt2K9GQXd",
        "colab_type": "text"
      },
      "source": [
        "Some of the code here presented was inspired by the following pratical guides:\n",
        "[CNNs](https://towardsdatascience.com/a-comprehensive-guide-to-convolutional-neural-networks-the-eli5-way-3bd2b1164a53)\n",
        ", [Fmnist-keras](https://www.pyimagesearch.com/2019/02/11/fashion-mnist-with-keras-and-deep-learning/)\n",
        "e [ConvNet classifier](https://medium.com/nanonets/how-to-classify-fashion-images-easily-using-convnets-81e1e0019ffe).    "
      ]
    },
    {
      "cell_type": "code",
      "metadata": {
        "id": "ufMXyabXStHk",
        "colab_type": "code",
        "outputId": "523895a6-b5a4-45fa-aa01-3cff96ea718a",
        "colab": {
          "base_uri": "https://localhost:8080/",
          "height": 122
        }
      },
      "source": [
        "from google.colab import drive\n",
        "drive.mount('/content/drive')"
      ],
      "execution_count": 1,
      "outputs": [
        {
          "output_type": "stream",
          "text": [
            "Go to this URL in a browser: https://accounts.google.com/o/oauth2/auth?client_id=947318989803-6bn6qk8qdgf4n4g3pfee6491hc0brc4i.apps.googleusercontent.com&redirect_uri=urn%3aietf%3awg%3aoauth%3a2.0%3aoob&response_type=code&scope=email%20https%3a%2f%2fwww.googleapis.com%2fauth%2fdocs.test%20https%3a%2f%2fwww.googleapis.com%2fauth%2fdrive%20https%3a%2f%2fwww.googleapis.com%2fauth%2fdrive.photos.readonly%20https%3a%2f%2fwww.googleapis.com%2fauth%2fpeopleapi.readonly\n",
            "\n",
            "Enter your authorization code:\n",
            "··········\n",
            "Mounted at /content/drive\n"
          ],
          "name": "stdout"
        }
      ]
    },
    {
      "cell_type": "code",
      "metadata": {
        "id": "0WWGK3JsSuVb",
        "colab_type": "code",
        "outputId": "f2ed99bb-c773-45c5-b11f-2e6cc1d22cd9",
        "colab": {
          "base_uri": "https://localhost:8080/",
          "height": 63
        }
      },
      "source": [
        "import tensorflow as tf\n",
        "tf.compat.v1.logging.set_verbosity(tf.compat.v1.logging.ERROR)"
      ],
      "execution_count": 2,
      "outputs": [
        {
          "output_type": "display_data",
          "data": {
            "text/html": [
              "<p style=\"color: red;\">\n",
              "The default version of TensorFlow in Colab will soon switch to TensorFlow 2.x.<br>\n",
              "We recommend you <a href=\"https://www.tensorflow.org/guide/migrate\" target=\"_blank\">upgrade</a> now \n",
              "or ensure your notebook will continue to use TensorFlow 1.x via the <code>%tensorflow_version 1.x</code> magic:\n",
              "<a href=\"https://colab.research.google.com/notebooks/tensorflow_version.ipynb\" target=\"_blank\">more info</a>.</p>\n"
            ],
            "text/plain": [
              "<IPython.core.display.HTML object>"
            ]
          },
          "metadata": {
            "tags": []
          }
        }
      ]
    },
    {
      "cell_type": "code",
      "metadata": {
        "id": "s7nZQ0ORGQXe",
        "colab_type": "code",
        "outputId": "f76d6e71-5039-4345-e96f-dbcc5f723981",
        "colab": {
          "base_uri": "https://localhost:8080/",
          "height": 34
        }
      },
      "source": [
        "# import model packages\n",
        "import keras\n",
        "from keras.models import Sequential\n",
        "from keras.layers import Dense, Activation, Dropout, Flatten, Conv2D, MaxPooling2D\n",
        "from keras.optimizers import SGD\n",
        "from keras import backend as K\n",
        "\n",
        "# import utility packages\n",
        "import numpy as np\n",
        "from google.colab.patches import cv2_imshow as cv2\n",
        "from sklearn.model_selection import train_test_split\n",
        "from sklearn.preprocessing import StandardScaler\n",
        "from sklearn.metrics import classification_report\n",
        "from sklearn.decomposition import PCA\n",
        "from keras.utils import np_utils\n",
        "from imutils import build_montages\n",
        "\n",
        "# set the matplotlib backend so figures can be saved in the background\n",
        "# import matplotlib\n",
        "# matplotlib.use(\"Agg\")\n",
        "import matplotlib.pyplot as plt\n",
        "\n",
        "# import the fashion mnist dataset\n",
        "from keras.datasets import fashion_mnist"
      ],
      "execution_count": 3,
      "outputs": [
        {
          "output_type": "stream",
          "text": [
            "Using TensorFlow backend.\n"
          ],
          "name": "stderr"
        }
      ]
    },
    {
      "cell_type": "markdown",
      "metadata": {
        "id": "CdYMqryjJEMt",
        "colab_type": "text"
      },
      "source": [
        "#### 1. Data preparation:"
      ]
    },
    {
      "cell_type": "code",
      "metadata": {
        "id": "Wx7ILDwWGQXi",
        "colab_type": "code",
        "outputId": "fa9aee86-51df-43a6-a175-e89afa8eef89",
        "colab": {
          "base_uri": "https://localhost:8080/",
          "height": 238
        }
      },
      "source": [
        "# grab the Fashion MNIST dataset\n",
        "print(\"Loading Fashion MNIST...\")\n",
        "((x_train, y_train), (x_test, y_test)) = fashion_mnist.load_data()\n",
        "x_train, x_val, y_train, y_val = train_test_split(\n",
        "    x_train, y_train, test_size = 0.25)\n",
        "\n",
        "def shapping(inputShape, X_train, X_val, X_test):\n",
        "    X_train = X_train.reshape((X_train.shape[0], inputShape[0], inputShape[1], inputShape[2]))\n",
        "    X_val = X_val.reshape((X_val.shape[0], inputShape[0], inputShape[1], inputShape[2]))\n",
        "    X_test = X_test.reshape((X_test.shape[0], inputShape[0], inputShape[1], inputShape[2]))\n",
        "    print(\"Dataset X dimensionality after reshaping to fit the CNN:\\n\", X_train.shape)\n",
        "    return X_train, X_val, X_test\n",
        "\n",
        "def coding(Y_train, Y_val, Y_test):\n",
        "    # one-hot encode the training and testing labels\n",
        "    Y_train = np_utils.to_categorical(Y_train, 10)\n",
        "    Y_val = np_utils.to_categorical(Y_val, 10)\n",
        "    Y_test = np_utils.to_categorical(Y_test, 10)\n",
        "    print(\"Dataset y dimensionality after one-hot encode:\\n\", Y_train.shape)\n",
        "    return Y_train, Y_val, Y_test\n",
        "    \n",
        "# initialize the label names\n",
        "labelNames = [\"top\", \"trouser\", \"pullover\", \"dress\", \"coat\",\n",
        "    \"sandal\", \"shirt\", \"sneaker\", \"bag\", \"ankle boot\"]\n",
        "\n",
        "# prepare data\n",
        "x_train = x_train.reshape((x_train.shape[0], 784))\n",
        "x_val = x_val.reshape((x_val.shape[0], 784))\n",
        "x_test = x_test.reshape((x_test.shape[0], 784))\n",
        "scaler = StandardScaler()\n",
        "scaler.fit(x_train)\n",
        "\n",
        "classes = 10\n",
        "inputShape = (28, 28, 1)\n",
        "X_train, X_val, X_test = shapping(inputShape, x_train, x_val, x_test)\n",
        "Y_train, Y_val, Y_test = coding(y_train, y_val, y_test)"
      ],
      "execution_count": 4,
      "outputs": [
        {
          "output_type": "stream",
          "text": [
            "Loading Fashion MNIST...\n",
            "Downloading data from http://fashion-mnist.s3-website.eu-central-1.amazonaws.com/train-labels-idx1-ubyte.gz\n",
            "32768/29515 [=================================] - 0s 0us/step\n",
            "Downloading data from http://fashion-mnist.s3-website.eu-central-1.amazonaws.com/train-images-idx3-ubyte.gz\n",
            "26427392/26421880 [==============================] - 0s 0us/step\n",
            "Downloading data from http://fashion-mnist.s3-website.eu-central-1.amazonaws.com/t10k-labels-idx1-ubyte.gz\n",
            "8192/5148 [===============================================] - 0s 0us/step\n",
            "Downloading data from http://fashion-mnist.s3-website.eu-central-1.amazonaws.com/t10k-images-idx3-ubyte.gz\n",
            "4423680/4422102 [==============================] - 0s 0us/step\n",
            "Dataset X dimensionality after reshaping to fit the CNN:\n",
            " (45000, 28, 28, 1)\n",
            "Dataset y dimensionality after one-hot encode:\n",
            " (45000, 10)\n"
          ],
          "name": "stdout"
        }
      ]
    },
    {
      "cell_type": "markdown",
      "metadata": {
        "id": "Y0S9a7r_JKzT",
        "colab_type": "text"
      },
      "source": [
        "#### 2. Convolutional Neural Network with Keras:"
      ]
    },
    {
      "cell_type": "code",
      "metadata": {
        "id": "n0z8mPbrGQXk",
        "colab_type": "code",
        "colab": {}
      },
      "source": [
        "def ConvNet(inputShape = (28,28,1), classes = 10):\n",
        "    model = Sequential()\n",
        "    # first CONV => RELU => POOL layer set\n",
        "    model.add(Conv2D(32, kernel_size=(3, 3), \n",
        "                     padding=\"same\",\n",
        "                     activation=\"relu\",\n",
        "                     input_shape=inputShape)) \n",
        "    model.add(MaxPooling2D(pool_size=(2, 2)))\n",
        "    model.add(Dropout(0.25))\n",
        "\n",
        "    # second CONV => RELU => POOL layer set\n",
        "    model.add(Conv2D(64, kernel_size=(3, 3),\n",
        "                     padding=\"same\",\n",
        "                     activation=\"relu\"))\n",
        "    model.add(MaxPooling2D(pool_size=(2, 2)))\n",
        "    model.add(Dropout(0.25))\n",
        "\n",
        "    # first (and only) set of FC => RELU layers\n",
        "    model.add(Flatten())\n",
        "    model.add(Dense(128))\n",
        "    model.add(Activation('relu'))\n",
        "    model.add(Dropout(0.25))\n",
        "\n",
        "    # softmax classifier\n",
        "    model.add(Dense(classes))\n",
        "    model.add(Activation(\"softmax\"))\n",
        "\n",
        "    # print and return the constructed network architecture\n",
        "    model.summary()\n",
        "    return model"
      ],
      "execution_count": 0,
      "outputs": []
    },
    {
      "cell_type": "markdown",
      "metadata": {
        "id": "-yEEibAbJm0B",
        "colab_type": "text"
      },
      "source": [
        "#### 3. Training the CNN without dimensionality reduction:"
      ]
    },
    {
      "cell_type": "code",
      "metadata": {
        "id": "4q8yDqwSGQXn",
        "colab_type": "code",
        "outputId": "63a3aff6-7424-4db0-bddb-80c0b01df39e",
        "colab": {
          "base_uri": "https://localhost:8080/",
          "height": 1000
        }
      },
      "source": [
        "# initialize the number of epochs to train for and batch size\n",
        "n_epochs = 20  # enough\n",
        "batch_size = 256\n",
        "# initialize the optimizer and model\n",
        "print(\"Compiling model...\")\n",
        "model = ConvNet(inputShape, classes)\n",
        "model.compile(loss=\"categorical_crossentropy\", optimizer='adam', metrics=[\"accuracy\"])\n",
        "\n",
        "# train the network\n",
        "print(\"Training model...\")\n",
        "H = model.fit(X_train, Y_train,\n",
        "    validation_data=(X_val, Y_val),\n",
        "    batch_size=batch_size, epochs=n_epochs, verbose=1)\n",
        "\n",
        "# make predictions on the test set\n",
        "preds = model.predict(X_test)\n",
        "\n",
        "# show a nicely formatted classification report\n",
        "print(\"Evaluating network...\")\n",
        "print(classification_report(Y_test.argmax(axis=1), preds.argmax(axis=1),\n",
        "    target_names=labelNames))"
      ],
      "execution_count": 6,
      "outputs": [
        {
          "output_type": "stream",
          "text": [
            "Compiling model...\n",
            "Model: \"sequential_1\"\n",
            "_________________________________________________________________\n",
            "Layer (type)                 Output Shape              Param #   \n",
            "=================================================================\n",
            "conv2d_1 (Conv2D)            (None, 28, 28, 32)        320       \n",
            "_________________________________________________________________\n",
            "max_pooling2d_1 (MaxPooling2 (None, 14, 14, 32)        0         \n",
            "_________________________________________________________________\n",
            "dropout_1 (Dropout)          (None, 14, 14, 32)        0         \n",
            "_________________________________________________________________\n",
            "conv2d_2 (Conv2D)            (None, 14, 14, 64)        18496     \n",
            "_________________________________________________________________\n",
            "max_pooling2d_2 (MaxPooling2 (None, 7, 7, 64)          0         \n",
            "_________________________________________________________________\n",
            "dropout_2 (Dropout)          (None, 7, 7, 64)          0         \n",
            "_________________________________________________________________\n",
            "flatten_1 (Flatten)          (None, 3136)              0         \n",
            "_________________________________________________________________\n",
            "dense_1 (Dense)              (None, 128)               401536    \n",
            "_________________________________________________________________\n",
            "activation_1 (Activation)    (None, 128)               0         \n",
            "_________________________________________________________________\n",
            "dropout_3 (Dropout)          (None, 128)               0         \n",
            "_________________________________________________________________\n",
            "dense_2 (Dense)              (None, 10)                1290      \n",
            "_________________________________________________________________\n",
            "activation_2 (Activation)    (None, 10)                0         \n",
            "=================================================================\n",
            "Total params: 421,642\n",
            "Trainable params: 421,642\n",
            "Non-trainable params: 0\n",
            "_________________________________________________________________\n",
            "Training model...\n",
            "Train on 45000 samples, validate on 15000 samples\n",
            "Epoch 1/20\n",
            "45000/45000 [==============================] - 8s 185us/step - loss: 4.5706 - acc: 0.5852 - val_loss: 0.4927 - val_acc: 0.8366\n",
            "Epoch 2/20\n",
            "45000/45000 [==============================] - 1s 31us/step - loss: 0.4948 - acc: 0.8184 - val_loss: 0.3732 - val_acc: 0.8675\n",
            "Epoch 3/20\n",
            "45000/45000 [==============================] - 1s 31us/step - loss: 0.4127 - acc: 0.8486 - val_loss: 0.3165 - val_acc: 0.8861\n",
            "Epoch 4/20\n",
            "45000/45000 [==============================] - 1s 32us/step - loss: 0.3688 - acc: 0.8631 - val_loss: 0.2933 - val_acc: 0.8931\n",
            "Epoch 5/20\n",
            "45000/45000 [==============================] - 1s 32us/step - loss: 0.3420 - acc: 0.8751 - val_loss: 0.2729 - val_acc: 0.9022\n",
            "Epoch 6/20\n",
            "45000/45000 [==============================] - 1s 32us/step - loss: 0.3201 - acc: 0.8800 - val_loss: 0.2591 - val_acc: 0.9061\n",
            "Epoch 7/20\n",
            "45000/45000 [==============================] - 1s 32us/step - loss: 0.3032 - acc: 0.8859 - val_loss: 0.2530 - val_acc: 0.9085\n",
            "Epoch 8/20\n",
            "45000/45000 [==============================] - 1s 31us/step - loss: 0.2897 - acc: 0.8915 - val_loss: 0.2566 - val_acc: 0.9071\n",
            "Epoch 9/20\n",
            "45000/45000 [==============================] - 1s 32us/step - loss: 0.2765 - acc: 0.8958 - val_loss: 0.2549 - val_acc: 0.9068\n",
            "Epoch 10/20\n",
            "45000/45000 [==============================] - 1s 33us/step - loss: 0.2659 - acc: 0.9004 - val_loss: 0.2412 - val_acc: 0.9121\n",
            "Epoch 11/20\n",
            "45000/45000 [==============================] - 1s 32us/step - loss: 0.2570 - acc: 0.9026 - val_loss: 0.2297 - val_acc: 0.9164\n",
            "Epoch 12/20\n",
            "45000/45000 [==============================] - 1s 32us/step - loss: 0.2511 - acc: 0.9052 - val_loss: 0.2439 - val_acc: 0.9104\n",
            "Epoch 13/20\n",
            "45000/45000 [==============================] - 1s 31us/step - loss: 0.2449 - acc: 0.9075 - val_loss: 0.2239 - val_acc: 0.9183\n",
            "Epoch 14/20\n",
            "45000/45000 [==============================] - 1s 31us/step - loss: 0.2363 - acc: 0.9103 - val_loss: 0.2240 - val_acc: 0.9187\n",
            "Epoch 15/20\n",
            "45000/45000 [==============================] - 1s 32us/step - loss: 0.2257 - acc: 0.9141 - val_loss: 0.2341 - val_acc: 0.9163\n",
            "Epoch 16/20\n",
            "45000/45000 [==============================] - 1s 31us/step - loss: 0.2226 - acc: 0.9161 - val_loss: 0.2317 - val_acc: 0.9163\n",
            "Epoch 17/20\n",
            "45000/45000 [==============================] - 1s 32us/step - loss: 0.2149 - acc: 0.9190 - val_loss: 0.2226 - val_acc: 0.9189\n",
            "Epoch 18/20\n",
            "45000/45000 [==============================] - 1s 31us/step - loss: 0.2139 - acc: 0.9183 - val_loss: 0.2245 - val_acc: 0.9205\n",
            "Epoch 19/20\n",
            "45000/45000 [==============================] - 1s 31us/step - loss: 0.2087 - acc: 0.9203 - val_loss: 0.2187 - val_acc: 0.9229\n",
            "Epoch 20/20\n",
            "45000/45000 [==============================] - 1s 31us/step - loss: 0.2006 - acc: 0.9236 - val_loss: 0.2227 - val_acc: 0.9231\n",
            "Evaluating network...\n",
            "              precision    recall  f1-score   support\n",
            "\n",
            "         top       0.84      0.88      0.86      1000\n",
            "     trouser       1.00      0.98      0.99      1000\n",
            "    pullover       0.88      0.84      0.86      1000\n",
            "       dress       0.92      0.92      0.92      1000\n",
            "        coat       0.84      0.89      0.86      1000\n",
            "      sandal       0.99      0.99      0.99      1000\n",
            "       shirt       0.75      0.73      0.74      1000\n",
            "     sneaker       0.94      0.99      0.96      1000\n",
            "         bag       0.99      0.98      0.99      1000\n",
            "  ankle boot       0.99      0.94      0.96      1000\n",
            "\n",
            "    accuracy                           0.91     10000\n",
            "   macro avg       0.91      0.91      0.91     10000\n",
            "weighted avg       0.91      0.91      0.91     10000\n",
            "\n"
          ],
          "name": "stdout"
        }
      ]
    },
    {
      "cell_type": "code",
      "metadata": {
        "id": "fuqBxNQLGQXp",
        "colab_type": "code",
        "outputId": "70f5410a-be1d-4e6c-9e95-056e73eed33a",
        "colab": {
          "base_uri": "https://localhost:8080/",
          "height": 573
        }
      },
      "source": [
        "# plot the training loss and accuracy\n",
        "def plot_loss(N, hist):\n",
        "    plt.plot(np.arange(0, N), hist.history[\"loss\"], label=\"train_loss\")\n",
        "    plt.plot(np.arange(0, N), hist.history[\"val_loss\"], label=\"val_loss\")\n",
        "    plt.title(\"Training Loss\")\n",
        "    plt.xlabel(\"Epoch\")\n",
        "    plt.ylabel(\"Loss\")\n",
        "    plt.legend(loc=\"upper right\")\n",
        "    plt.show()\n",
        "\n",
        "def plot_acc(N, hist):\n",
        "    plt.plot(np.arange(0, N), hist.history[\"acc\"], label=\"train_accuracy\")\n",
        "    plt.plot(np.arange(0, N), hist.history[\"val_acc\"], label=\"val_accuracy\")\n",
        "    plt.title(\"Training Accuracy\")\n",
        "    plt.xlabel(\"Epoch\")\n",
        "    plt.ylabel(\"Accuracy\")\n",
        "    plt.legend(loc=\"lower right\")\n",
        "    plt.show()\n",
        "\n",
        "plot_loss(n_epochs, H)\n",
        "plot_acc(n_epochs, H)"
      ],
      "execution_count": 7,
      "outputs": [
        {
          "output_type": "display_data",
          "data": {
            "image/png": "[encoded data removed]",
            "text/plain": [
              "<Figure size 432x288 with 1 Axes>"
            ]
          },
          "metadata": {
            "tags": []
          }
        },
        {
          "output_type": "display_data",
          "data": {
            "image/png": "[encoded data removed]",
            "text/plain": [
              "<Figure size 432x288 with 1 Axes>"
            ]
          },
          "metadata": {
            "tags": []
          }
        }
      ]
    },
    {
      "cell_type": "markdown",
      "metadata": {
        "id": "wBlkx0ctMV8H",
        "colab_type": "text"
      },
      "source": [
        "#### 4. Dimensionality reduction through PCA:"
      ]
    },
    {
      "cell_type": "code",
      "metadata": {
        "id": "iHUoXjVrGQXr",
        "colab_type": "code",
        "outputId": "c3134156-4e43-43ad-a79a-f6bd3adac7ea",
        "colab": {
          "base_uri": "https://localhost:8080/",
          "height": 312
        }
      },
      "source": [
        "# Construct transform for PCA\n",
        "X_sc_train = scaler.transform(x_train)\n",
        "X_sc_val = scaler.transform(x_val)\n",
        "X_sc_test = scaler.transform(x_test)\n",
        "# note that the lowercase x hasn't been shaped into 28x28\n",
        "# and uppercase Y is already ready\n",
        "pca = PCA(n_components=784)\n",
        "pca.fit(x_train)\n",
        "\n",
        "# Plot PCA decomposition info\n",
        "plt.plot(np.cumsum(pca.explained_variance_ratio_), label=\"Variance\")\n",
        "plt.title('PCA decomposition variance')\n",
        "plt.xlabel('Number of components')\n",
        "plt.ylabel('Cumulative explained variance')\n",
        "plt.legend(loc=\"lower right\")"
      ],
      "execution_count": 8,
      "outputs": [
        {
          "output_type": "execute_result",
          "data": {
            "text/plain": [
              "<matplotlib.legend.Legend at 0x7f4a2804fcf8>"
            ]
          },
          "metadata": {
            "tags": []
          },
          "execution_count": 8
        },
        {
          "output_type": "display_data",
          "data": {
            "image/png": "[encoded data removed]",
            "text/plain": [
              "<Figure size 432x288 with 1 Axes>"
            ]
          },
          "metadata": {
            "tags": []
          }
        }
      ]
    },
    {
      "cell_type": "markdown",
      "metadata": {
        "id": "UkiTt9bChFWg",
        "colab_type": "text"
      },
      "source": [
        "##### 4.a) 64 PCA components:"
      ]
    },
    {
      "cell_type": "code",
      "metadata": {
        "scrolled": false,
        "id": "3ISgB1f9GQXu",
        "colab_type": "code",
        "outputId": "3f8bba66-8ae3-4cf4-9c9b-d8ab07b41909",
        "colab": {
          "base_uri": "https://localhost:8080/",
          "height": 1000
        }
      },
      "source": [
        "NCOMPONENTS = 64\n",
        "\n",
        "pca = PCA(n_components=NCOMPONENTS)\n",
        "X_64_train = pca.fit_transform(X_sc_train)\n",
        "X_64_val = pca.transform(X_sc_val)\n",
        "X_64_test = pca.transform(X_sc_test)\n",
        "inputShape = (8, 8, 1)\n",
        "X_64_train, X_64_val, X_64_test = shapping(inputShape, X_64_train, X_64_val, X_64_test)\n",
        "\n",
        "# initialize the number of epochs\n",
        "n_epochs = 50  # enough\n",
        "# initialize the optimizer and model\n",
        "print(\"Compiling model...\")\n",
        "model = ConvNet(inputShape, classes)\n",
        "model.compile(loss=\"categorical_crossentropy\", optimizer='adam',\n",
        "    metrics=[\"accuracy\"])\n",
        "\n",
        "# train the network\n",
        "print(\"Training model...\")\n",
        "H = model.fit(X_64_train, Y_train,\n",
        "    validation_data=(X_64_val, Y_val),\n",
        "    batch_size=batch_size, epochs=n_epochs, verbose = 1)\n",
        "\n",
        "# make predictions on the test set\n",
        "preds = model.predict(X_64_test)\n",
        "\n",
        "# show a nicely formatted classification report\n",
        "print(\"Evaluating network...\")\n",
        "print(classification_report(Y_test.argmax(axis=1), preds.argmax(axis=1),\n",
        "    target_names=labelNames))\n",
        "\n",
        "# plot the training loss and accuracy\n",
        "plot_loss(n_epochs, H)\n",
        "plot_acc(n_epochs, H)"
      ],
      "execution_count": 9,
      "outputs": [
        {
          "output_type": "stream",
          "text": [
            "Dataset X dimensionality after reshaping to fit the CNN:\n",
            " (45000, 8, 8, 1)\n",
            "Compiling model...\n",
            "Model: \"sequential_2\"\n",
            "_________________________________________________________________\n",
            "Layer (type)                 Output Shape              Param #   \n",
            "=================================================================\n",
            "conv2d_3 (Conv2D)            (None, 8, 8, 32)          320       \n",
            "_________________________________________________________________\n",
            "max_pooling2d_3 (MaxPooling2 (None, 4, 4, 32)          0         \n",
            "_________________________________________________________________\n",
            "dropout_4 (Dropout)          (None, 4, 4, 32)          0         \n",
            "_________________________________________________________________\n",
            "conv2d_4 (Conv2D)            (None, 4, 4, 64)          18496     \n",
            "_________________________________________________________________\n",
            "max_pooling2d_4 (MaxPooling2 (None, 2, 2, 64)          0         \n",
            "_________________________________________________________________\n",
            "dropout_5 (Dropout)          (None, 2, 2, 64)          0         \n",
            "_________________________________________________________________\n",
            "flatten_2 (Flatten)          (None, 256)               0         \n",
            "_________________________________________________________________\n",
            "dense_3 (Dense)              (None, 128)               32896     \n",
            "_________________________________________________________________\n",
            "activation_3 (Activation)    (None, 128)               0         \n",
            "_________________________________________________________________\n",
            "dropout_6 (Dropout)          (None, 128)               0         \n",
            "_________________________________________________________________\n",
            "dense_4 (Dense)              (None, 10)                1290      \n",
            "_________________________________________________________________\n",
            "activation_4 (Activation)    (None, 10)                0         \n",
            "=================================================================\n",
            "Total params: 53,002\n",
            "Trainable params: 53,002\n",
            "Non-trainable params: 0\n",
            "_________________________________________________________________\n",
            "Training model...\n",
            "Train on 45000 samples, validate on 15000 samples\n",
            "Epoch 1/50\n",
            "45000/45000 [==============================] - 1s 31us/step - loss: 1.1535 - acc: 0.6000 - val_loss: 0.5855 - val_acc: 0.7900\n",
            "Epoch 2/50\n",
            "45000/45000 [==============================] - 1s 20us/step - loss: 0.7021 - acc: 0.7488 - val_loss: 0.5209 - val_acc: 0.8177\n",
            "Epoch 3/50\n",
            "45000/45000 [==============================] - 1s 20us/step - loss: 0.6240 - acc: 0.7760 - val_loss: 0.4803 - val_acc: 0.8270\n",
            "Epoch 4/50\n",
            "45000/45000 [==============================] - 1s 21us/step - loss: 0.5817 - acc: 0.7917 - val_loss: 0.4476 - val_acc: 0.8387\n",
            "Epoch 5/50\n",
            "45000/45000 [==============================] - 1s 21us/step - loss: 0.5521 - acc: 0.7996 - val_loss: 0.4302 - val_acc: 0.8461\n",
            "Epoch 6/50\n",
            "45000/45000 [==============================] - 1s 20us/step - loss: 0.5336 - acc: 0.8080 - val_loss: 0.4196 - val_acc: 0.8449\n",
            "Epoch 7/50\n",
            "45000/45000 [==============================] - 1s 20us/step - loss: 0.5185 - acc: 0.8111 - val_loss: 0.4063 - val_acc: 0.8505\n",
            "Epoch 8/50\n",
            "45000/45000 [==============================] - 1s 20us/step - loss: 0.5089 - acc: 0.8161 - val_loss: 0.4010 - val_acc: 0.8529\n",
            "Epoch 9/50\n",
            "45000/45000 [==============================] - 1s 20us/step - loss: 0.4935 - acc: 0.8197 - val_loss: 0.3975 - val_acc: 0.8568\n",
            "Epoch 10/50\n",
            "45000/45000 [==============================] - 1s 20us/step - loss: 0.4842 - acc: 0.8219 - val_loss: 0.3873 - val_acc: 0.8582\n",
            "Epoch 11/50\n",
            "45000/45000 [==============================] - 1s 20us/step - loss: 0.4772 - acc: 0.8259 - val_loss: 0.3867 - val_acc: 0.8612\n",
            "Epoch 12/50\n",
            "45000/45000 [==============================] - 1s 20us/step - loss: 0.4732 - acc: 0.8258 - val_loss: 0.3858 - val_acc: 0.8603\n",
            "Epoch 13/50\n",
            "45000/45000 [==============================] - 1s 20us/step - loss: 0.4675 - acc: 0.8278 - val_loss: 0.3825 - val_acc: 0.8597\n",
            "Epoch 14/50\n",
            "45000/45000 [==============================] - 1s 20us/step - loss: 0.4612 - acc: 0.8279 - val_loss: 0.3776 - val_acc: 0.8609\n",
            "Epoch 15/50\n",
            "45000/45000 [==============================] - 1s 20us/step - loss: 0.4559 - acc: 0.8352 - val_loss: 0.3742 - val_acc: 0.8633\n",
            "Epoch 16/50\n",
            "45000/45000 [==============================] - 1s 21us/step - loss: 0.4483 - acc: 0.8352 - val_loss: 0.3651 - val_acc: 0.8667\n",
            "Epoch 17/50\n",
            "45000/45000 [==============================] - 1s 20us/step - loss: 0.4449 - acc: 0.8382 - val_loss: 0.3661 - val_acc: 0.8649\n",
            "Epoch 18/50\n",
            "45000/45000 [==============================] - 1s 20us/step - loss: 0.4477 - acc: 0.8346 - val_loss: 0.3635 - val_acc: 0.8650\n",
            "Epoch 19/50\n",
            "45000/45000 [==============================] - 1s 22us/step - loss: 0.4404 - acc: 0.8382 - val_loss: 0.3706 - val_acc: 0.8655\n",
            "Epoch 20/50\n",
            "45000/45000 [==============================] - 1s 20us/step - loss: 0.4357 - acc: 0.8395 - val_loss: 0.3619 - val_acc: 0.8677\n",
            "Epoch 21/50\n",
            "45000/45000 [==============================] - 1s 20us/step - loss: 0.4316 - acc: 0.8428 - val_loss: 0.3595 - val_acc: 0.8679\n",
            "Epoch 22/50\n",
            "45000/45000 [==============================] - 1s 20us/step - loss: 0.4316 - acc: 0.8425 - val_loss: 0.3572 - val_acc: 0.8683\n",
            "Epoch 23/50\n",
            "45000/45000 [==============================] - 1s 20us/step - loss: 0.4282 - acc: 0.8433 - val_loss: 0.3590 - val_acc: 0.8705\n",
            "Epoch 24/50\n",
            "45000/45000 [==============================] - 1s 21us/step - loss: 0.4239 - acc: 0.8444 - val_loss: 0.3569 - val_acc: 0.8684\n",
            "Epoch 25/50\n",
            "45000/45000 [==============================] - 1s 20us/step - loss: 0.4270 - acc: 0.8422 - val_loss: 0.3542 - val_acc: 0.8695\n",
            "Epoch 26/50\n",
            "45000/45000 [==============================] - 1s 21us/step - loss: 0.4229 - acc: 0.8438 - val_loss: 0.3528 - val_acc: 0.8708\n",
            "Epoch 27/50\n",
            "45000/45000 [==============================] - 1s 20us/step - loss: 0.4186 - acc: 0.8472 - val_loss: 0.3550 - val_acc: 0.8688\n",
            "Epoch 28/50\n",
            "45000/45000 [==============================] - 1s 20us/step - loss: 0.4209 - acc: 0.8464 - val_loss: 0.3513 - val_acc: 0.8698\n",
            "Epoch 29/50\n",
            "45000/45000 [==============================] - 1s 21us/step - loss: 0.4152 - acc: 0.8461 - val_loss: 0.3506 - val_acc: 0.8717\n",
            "Epoch 30/50\n",
            "45000/45000 [==============================] - 1s 20us/step - loss: 0.4147 - acc: 0.8479 - val_loss: 0.3502 - val_acc: 0.8701\n",
            "Epoch 31/50\n",
            "45000/45000 [==============================] - 1s 20us/step - loss: 0.4121 - acc: 0.8475 - val_loss: 0.3472 - val_acc: 0.8710\n",
            "Epoch 32/50\n",
            "45000/45000 [==============================] - 1s 21us/step - loss: 0.4147 - acc: 0.8458 - val_loss: 0.3469 - val_acc: 0.8710\n",
            "Epoch 33/50\n",
            "45000/45000 [==============================] - 1s 21us/step - loss: 0.4101 - acc: 0.8484 - val_loss: 0.3477 - val_acc: 0.8722\n",
            "Epoch 34/50\n",
            "45000/45000 [==============================] - 1s 21us/step - loss: 0.4082 - acc: 0.8478 - val_loss: 0.3490 - val_acc: 0.8717\n",
            "Epoch 35/50\n",
            "45000/45000 [==============================] - 1s 20us/step - loss: 0.4116 - acc: 0.8480 - val_loss: 0.3477 - val_acc: 0.8724\n",
            "Epoch 36/50\n",
            "45000/45000 [==============================] - 1s 21us/step - loss: 0.4058 - acc: 0.8483 - val_loss: 0.3458 - val_acc: 0.8723\n",
            "Epoch 37/50\n",
            "45000/45000 [==============================] - 1s 20us/step - loss: 0.4036 - acc: 0.8498 - val_loss: 0.3434 - val_acc: 0.8719\n",
            "Epoch 38/50\n",
            "45000/45000 [==============================] - 1s 20us/step - loss: 0.4041 - acc: 0.8512 - val_loss: 0.3479 - val_acc: 0.8715\n",
            "Epoch 39/50\n",
            "45000/45000 [==============================] - 1s 20us/step - loss: 0.4083 - acc: 0.8493 - val_loss: 0.3447 - val_acc: 0.8720\n",
            "Epoch 40/50\n",
            "45000/45000 [==============================] - 1s 19us/step - loss: 0.4038 - acc: 0.8497 - val_loss: 0.3444 - val_acc: 0.8729\n",
            "Epoch 41/50\n",
            "45000/45000 [==============================] - 1s 21us/step - loss: 0.4000 - acc: 0.8526 - val_loss: 0.3428 - val_acc: 0.8746\n",
            "Epoch 42/50\n",
            "45000/45000 [==============================] - 1s 20us/step - loss: 0.3990 - acc: 0.8522 - val_loss: 0.3403 - val_acc: 0.8759\n",
            "Epoch 43/50\n",
            "45000/45000 [==============================] - 1s 20us/step - loss: 0.3954 - acc: 0.8523 - val_loss: 0.3443 - val_acc: 0.8748\n",
            "Epoch 44/50\n",
            "45000/45000 [==============================] - 1s 20us/step - loss: 0.4011 - acc: 0.8523 - val_loss: 0.3436 - val_acc: 0.8745\n",
            "Epoch 45/50\n",
            "45000/45000 [==============================] - 1s 20us/step - loss: 0.3973 - acc: 0.8539 - val_loss: 0.3435 - val_acc: 0.8746\n",
            "Epoch 46/50\n",
            "45000/45000 [==============================] - 1s 19us/step - loss: 0.4003 - acc: 0.8527 - val_loss: 0.3398 - val_acc: 0.8728\n",
            "Epoch 47/50\n",
            "45000/45000 [==============================] - 1s 19us/step - loss: 0.3974 - acc: 0.8523 - val_loss: 0.3399 - val_acc: 0.8755\n",
            "Epoch 48/50\n",
            "45000/45000 [==============================] - 1s 20us/step - loss: 0.3929 - acc: 0.8537 - val_loss: 0.3421 - val_acc: 0.8747\n",
            "Epoch 49/50\n",
            "45000/45000 [==============================] - 1s 20us/step - loss: 0.3968 - acc: 0.8520 - val_loss: 0.3402 - val_acc: 0.8731\n",
            "Epoch 50/50\n",
            "45000/45000 [==============================] - 1s 20us/step - loss: 0.3932 - acc: 0.8522 - val_loss: 0.3403 - val_acc: 0.8743\n",
            "Evaluating network...\n",
            "              precision    recall  f1-score   support\n",
            "\n",
            "         top       0.81      0.82      0.82      1000\n",
            "     trouser       0.99      0.96      0.97      1000\n",
            "    pullover       0.78      0.76      0.77      1000\n",
            "       dress       0.85      0.89      0.87      1000\n",
            "        coat       0.76      0.78      0.77      1000\n",
            "      sandal       0.94      0.93      0.93      1000\n",
            "       shirt       0.66      0.64      0.65      1000\n",
            "     sneaker       0.91      0.93      0.92      1000\n",
            "         bag       0.98      0.95      0.96      1000\n",
            "  ankle boot       0.93      0.94      0.94      1000\n",
            "\n",
            "    accuracy                           0.86     10000\n",
            "   macro avg       0.86      0.86      0.86     10000\n",
            "weighted avg       0.86      0.86      0.86     10000\n",
            "\n"
          ],
          "name": "stdout"
        },
        {
          "output_type": "display_data",
          "data": {
            "image/png": "[encoded data removed]",
            "text/plain": [
              "<Figure size 432x288 with 1 Axes>"
            ]
          },
          "metadata": {
            "tags": []
          }
        },
        {
          "output_type": "display_data",
          "data": {
            "image/png": "[encoded data removed]",
            "text/plain": [
              "<Figure size 432x288 with 1 Axes>"
            ]
          },
          "metadata": {
            "tags": []
          }
        }
      ]
    },
    {
      "cell_type": "markdown",
      "metadata": {
        "id": "sf8AvhalhN2m",
        "colab_type": "text"
      },
      "source": [
        "##### 4.b) 144 PCA components:"
      ]
    },
    {
      "cell_type": "code",
      "metadata": {
        "scrolled": false,
        "id": "xKLmGhr3GQXw",
        "colab_type": "code",
        "colab": {
          "base_uri": "https://localhost:8080/",
          "height": 1000
        },
        "outputId": "0eb3495e-4b36-4408-f550-6867efaecdf7"
      },
      "source": [
        "NCOMPONENTS = 144\n",
        "\n",
        "pca = PCA(n_components=NCOMPONENTS)\n",
        "X_144_train = pca.fit_transform(X_sc_train)\n",
        "X_144_val = pca.transform(X_sc_val)\n",
        "X_144_test = pca.transform(X_sc_test)\n",
        "\n",
        "inputShape = (12, 12, 1)\n",
        "X_144_train, X_144_val, X_144_test = shapping(inputShape, X_144_train, X_144_val, X_144_test)\n",
        "\n",
        "# initialize the optimizer and model\n",
        "print(\"Compiling model...\")\n",
        "model = ConvNet(inputShape, classes)\n",
        "model.compile(loss=\"categorical_crossentropy\", optimizer='adam',\n",
        "    metrics=[\"accuracy\"])\n",
        "\n",
        "# train the network\n",
        "print(\"Training model...\")\n",
        "H = model.fit(X_144_train, Y_train,\n",
        "    validation_data=(X_144_val, Y_val),\n",
        "    batch_size=batch_size, epochs=n_epochs, verbose=1)\n",
        "\n",
        "# make predictions on the test set\n",
        "preds = model.predict(X_144_test)\n",
        "\n",
        "# show a nicely formatted classification report\n",
        "print(\"Evaluating network...\")\n",
        "print(classification_report(Y_test.argmax(axis=1), preds.argmax(axis=1),\n",
        "    target_names=labelNames))\n",
        "\n",
        "# plot the training loss and accuracy\n",
        "plot_loss(n_epochs, H)\n",
        "plot_acc(n_epochs, H)"
      ],
      "execution_count": 10,
      "outputs": [
        {
          "output_type": "stream",
          "text": [
            "Dataset X dimensionality after reshaping to fit the CNN:\n",
            " (45000, 12, 12, 1)\n",
            "Compiling model...\n",
            "Model: \"sequential_3\"\n",
            "_________________________________________________________________\n",
            "Layer (type)                 Output Shape              Param #   \n",
            "=================================================================\n",
            "conv2d_5 (Conv2D)            (None, 12, 12, 32)        320       \n",
            "_________________________________________________________________\n",
            "max_pooling2d_5 (MaxPooling2 (None, 6, 6, 32)          0         \n",
            "_________________________________________________________________\n",
            "dropout_7 (Dropout)          (None, 6, 6, 32)          0         \n",
            "_________________________________________________________________\n",
            "conv2d_6 (Conv2D)            (None, 6, 6, 64)          18496     \n",
            "_________________________________________________________________\n",
            "max_pooling2d_6 (MaxPooling2 (None, 3, 3, 64)          0         \n",
            "_________________________________________________________________\n",
            "dropout_8 (Dropout)          (None, 3, 3, 64)          0         \n",
            "_________________________________________________________________\n",
            "flatten_3 (Flatten)          (None, 576)               0         \n",
            "_________________________________________________________________\n",
            "dense_5 (Dense)              (None, 128)               73856     \n",
            "_________________________________________________________________\n",
            "activation_5 (Activation)    (None, 128)               0         \n",
            "_________________________________________________________________\n",
            "dropout_9 (Dropout)          (None, 128)               0         \n",
            "_________________________________________________________________\n",
            "dense_6 (Dense)              (None, 10)                1290      \n",
            "_________________________________________________________________\n",
            "activation_6 (Activation)    (None, 10)                0         \n",
            "=================================================================\n",
            "Total params: 93,962\n",
            "Trainable params: 93,962\n",
            "Non-trainable params: 0\n",
            "_________________________________________________________________\n",
            "Training model...\n",
            "Train on 45000 samples, validate on 15000 samples\n",
            "Epoch 1/50\n",
            "45000/45000 [==============================] - 1s 33us/step - loss: 1.1218 - acc: 0.6082 - val_loss: 0.5804 - val_acc: 0.7931\n",
            "Epoch 2/50\n",
            "45000/45000 [==============================] - 1s 21us/step - loss: 0.6679 - acc: 0.7596 - val_loss: 0.4831 - val_acc: 0.8233\n",
            "Epoch 3/50\n",
            "45000/45000 [==============================] - 1s 21us/step - loss: 0.5899 - acc: 0.7856 - val_loss: 0.4434 - val_acc: 0.8341\n",
            "Epoch 4/50\n",
            "45000/45000 [==============================] - 1s 22us/step - loss: 0.5489 - acc: 0.7979 - val_loss: 0.4213 - val_acc: 0.8431\n",
            "Epoch 5/50\n",
            "45000/45000 [==============================] - 1s 21us/step - loss: 0.5194 - acc: 0.8103 - val_loss: 0.4031 - val_acc: 0.8503\n",
            "Epoch 6/50\n",
            "45000/45000 [==============================] - 1s 23us/step - loss: 0.4982 - acc: 0.8163 - val_loss: 0.3929 - val_acc: 0.8575\n",
            "Epoch 7/50\n",
            "45000/45000 [==============================] - 1s 24us/step - loss: 0.4809 - acc: 0.8233 - val_loss: 0.3848 - val_acc: 0.8589\n",
            "Epoch 8/50\n",
            "45000/45000 [==============================] - 1s 22us/step - loss: 0.4691 - acc: 0.8283 - val_loss: 0.3784 - val_acc: 0.8615\n",
            "Epoch 9/50\n",
            "45000/45000 [==============================] - 1s 21us/step - loss: 0.4608 - acc: 0.8313 - val_loss: 0.3727 - val_acc: 0.8649\n",
            "Epoch 10/50\n",
            "45000/45000 [==============================] - 1s 21us/step - loss: 0.4467 - acc: 0.8346 - val_loss: 0.3621 - val_acc: 0.8657\n",
            "Epoch 11/50\n",
            "45000/45000 [==============================] - 1s 22us/step - loss: 0.4386 - acc: 0.8404 - val_loss: 0.3558 - val_acc: 0.8690\n",
            "Epoch 12/50\n",
            "45000/45000 [==============================] - 1s 22us/step - loss: 0.4347 - acc: 0.8408 - val_loss: 0.3566 - val_acc: 0.8701\n",
            "Epoch 13/50\n",
            "45000/45000 [==============================] - 1s 21us/step - loss: 0.4305 - acc: 0.8414 - val_loss: 0.3488 - val_acc: 0.8711\n",
            "Epoch 14/50\n",
            "45000/45000 [==============================] - 1s 21us/step - loss: 0.4207 - acc: 0.8445 - val_loss: 0.3530 - val_acc: 0.8679\n",
            "Epoch 15/50\n",
            "45000/45000 [==============================] - 1s 23us/step - loss: 0.4144 - acc: 0.8474 - val_loss: 0.3488 - val_acc: 0.8700\n",
            "Epoch 16/50\n",
            "45000/45000 [==============================] - 1s 21us/step - loss: 0.4128 - acc: 0.8465 - val_loss: 0.3440 - val_acc: 0.8715\n",
            "Epoch 17/50\n",
            "45000/45000 [==============================] - 1s 22us/step - loss: 0.4068 - acc: 0.8496 - val_loss: 0.3454 - val_acc: 0.8713\n",
            "Epoch 18/50\n",
            "45000/45000 [==============================] - 1s 21us/step - loss: 0.4038 - acc: 0.8502 - val_loss: 0.3386 - val_acc: 0.8729\n",
            "Epoch 19/50\n",
            "45000/45000 [==============================] - 1s 22us/step - loss: 0.3967 - acc: 0.8537 - val_loss: 0.3376 - val_acc: 0.8735\n",
            "Epoch 20/50\n",
            "45000/45000 [==============================] - 1s 21us/step - loss: 0.3959 - acc: 0.8532 - val_loss: 0.3396 - val_acc: 0.8749\n",
            "Epoch 21/50\n",
            "45000/45000 [==============================] - 1s 22us/step - loss: 0.3951 - acc: 0.8545 - val_loss: 0.3377 - val_acc: 0.8755\n",
            "Epoch 22/50\n",
            "45000/45000 [==============================] - 1s 22us/step - loss: 0.3878 - acc: 0.8558 - val_loss: 0.3369 - val_acc: 0.8749\n",
            "Epoch 23/50\n",
            "45000/45000 [==============================] - 1s 22us/step - loss: 0.3883 - acc: 0.8563 - val_loss: 0.3358 - val_acc: 0.8766\n",
            "Epoch 24/50\n",
            "45000/45000 [==============================] - 1s 22us/step - loss: 0.3851 - acc: 0.8564 - val_loss: 0.3329 - val_acc: 0.8749\n",
            "Epoch 25/50\n",
            "45000/45000 [==============================] - 1s 22us/step - loss: 0.3832 - acc: 0.8568 - val_loss: 0.3337 - val_acc: 0.8763\n",
            "Epoch 26/50\n",
            "45000/45000 [==============================] - 1s 22us/step - loss: 0.3789 - acc: 0.8605 - val_loss: 0.3348 - val_acc: 0.8753\n",
            "Epoch 27/50\n",
            "45000/45000 [==============================] - 1s 21us/step - loss: 0.3776 - acc: 0.8593 - val_loss: 0.3310 - val_acc: 0.8795\n",
            "Epoch 28/50\n",
            "45000/45000 [==============================] - 1s 21us/step - loss: 0.3778 - acc: 0.8590 - val_loss: 0.3299 - val_acc: 0.8762\n",
            "Epoch 29/50\n",
            "45000/45000 [==============================] - 1s 22us/step - loss: 0.3767 - acc: 0.8606 - val_loss: 0.3309 - val_acc: 0.8786\n",
            "Epoch 30/50\n",
            "45000/45000 [==============================] - 1s 22us/step - loss: 0.3712 - acc: 0.8607 - val_loss: 0.3269 - val_acc: 0.8797\n",
            "Epoch 31/50\n",
            "45000/45000 [==============================] - 1s 24us/step - loss: 0.3727 - acc: 0.8627 - val_loss: 0.3251 - val_acc: 0.8781\n",
            "Epoch 32/50\n",
            "45000/45000 [==============================] - 1s 22us/step - loss: 0.3628 - acc: 0.8644 - val_loss: 0.3259 - val_acc: 0.8802\n",
            "Epoch 33/50\n",
            "45000/45000 [==============================] - 1s 24us/step - loss: 0.3622 - acc: 0.8637 - val_loss: 0.3284 - val_acc: 0.8770\n",
            "Epoch 34/50\n",
            "45000/45000 [==============================] - 1s 23us/step - loss: 0.3616 - acc: 0.8662 - val_loss: 0.3246 - val_acc: 0.8799\n",
            "Epoch 35/50\n",
            "45000/45000 [==============================] - 1s 22us/step - loss: 0.3608 - acc: 0.8657 - val_loss: 0.3248 - val_acc: 0.8806\n",
            "Epoch 36/50\n",
            "45000/45000 [==============================] - 1s 24us/step - loss: 0.3607 - acc: 0.8664 - val_loss: 0.3240 - val_acc: 0.8795\n",
            "Epoch 37/50\n",
            "45000/45000 [==============================] - 1s 22us/step - loss: 0.3568 - acc: 0.8662 - val_loss: 0.3233 - val_acc: 0.8775\n",
            "Epoch 38/50\n",
            "45000/45000 [==============================] - 1s 23us/step - loss: 0.3558 - acc: 0.8673 - val_loss: 0.3214 - val_acc: 0.8815\n",
            "Epoch 39/50\n",
            "45000/45000 [==============================] - 1s 22us/step - loss: 0.3533 - acc: 0.8666 - val_loss: 0.3241 - val_acc: 0.8773\n",
            "Epoch 40/50\n",
            "45000/45000 [==============================] - 1s 23us/step - loss: 0.3557 - acc: 0.8662 - val_loss: 0.3216 - val_acc: 0.8803\n",
            "Epoch 41/50\n",
            "45000/45000 [==============================] - 1s 22us/step - loss: 0.3527 - acc: 0.8682 - val_loss: 0.3212 - val_acc: 0.8813\n",
            "Epoch 42/50\n",
            "45000/45000 [==============================] - 1s 21us/step - loss: 0.3556 - acc: 0.8669 - val_loss: 0.3223 - val_acc: 0.8781\n",
            "Epoch 43/50\n",
            "45000/45000 [==============================] - 1s 20us/step - loss: 0.3491 - acc: 0.8714 - val_loss: 0.3196 - val_acc: 0.8815\n",
            "Epoch 44/50\n",
            "45000/45000 [==============================] - 1s 21us/step - loss: 0.3471 - acc: 0.8699 - val_loss: 0.3188 - val_acc: 0.8827\n",
            "Epoch 45/50\n",
            "45000/45000 [==============================] - 1s 21us/step - loss: 0.3450 - acc: 0.8716 - val_loss: 0.3192 - val_acc: 0.8816\n",
            "Epoch 46/50\n",
            "45000/45000 [==============================] - 1s 22us/step - loss: 0.3455 - acc: 0.8696 - val_loss: 0.3210 - val_acc: 0.8801\n",
            "Epoch 47/50\n",
            "45000/45000 [==============================] - 1s 22us/step - loss: 0.3447 - acc: 0.8683 - val_loss: 0.3218 - val_acc: 0.8807\n",
            "Epoch 48/50\n",
            "45000/45000 [==============================] - 1s 21us/step - loss: 0.3435 - acc: 0.8710 - val_loss: 0.3199 - val_acc: 0.8819\n",
            "Epoch 49/50\n",
            "45000/45000 [==============================] - 1s 22us/step - loss: 0.3420 - acc: 0.8717 - val_loss: 0.3228 - val_acc: 0.8793\n",
            "Epoch 50/50\n",
            "45000/45000 [==============================] - 1s 21us/step - loss: 0.3400 - acc: 0.8717 - val_loss: 0.3188 - val_acc: 0.8799\n",
            "Evaluating network...\n",
            "              precision    recall  f1-score   support\n",
            "\n",
            "         top       0.84      0.82      0.83      1000\n",
            "     trouser       0.99      0.97      0.98      1000\n",
            "    pullover       0.78      0.76      0.77      1000\n",
            "       dress       0.87      0.90      0.88      1000\n",
            "        coat       0.76      0.80      0.78      1000\n",
            "      sandal       0.96      0.94      0.95      1000\n",
            "       shirt       0.68      0.65      0.67      1000\n",
            "     sneaker       0.90      0.96      0.93      1000\n",
            "         bag       0.95      0.96      0.96      1000\n",
            "  ankle boot       0.96      0.93      0.94      1000\n",
            "\n",
            "    accuracy                           0.87     10000\n",
            "   macro avg       0.87      0.87      0.87     10000\n",
            "weighted avg       0.87      0.87      0.87     10000\n",
            "\n"
          ],
          "name": "stdout"
        },
        {
          "output_type": "display_data",
          "data": {
            "image/png": "[encoded data removed]",
            "text/plain": [
              "<Figure size 432x288 with 1 Axes>"
            ]
          },
          "metadata": {
            "tags": []
          }
        },
        {
          "output_type": "display_data",
          "data": {
            "image/png": "[encoded data removed]",
            "text/plain": [
              "<Figure size 432x288 with 1 Axes>"
            ]
          },
          "metadata": {
            "tags": []
          }
        }
      ]
    },
    {
      "cell_type": "markdown",
      "metadata": {
        "id": "B3_mXZEVhRE-",
        "colab_type": "text"
      },
      "source": [
        "##### 4.c) 256 PCA components:"
      ]
    },
    {
      "cell_type": "code",
      "metadata": {
        "scrolled": false,
        "id": "dS_Ml5iTGQXy",
        "colab_type": "code",
        "colab": {
          "base_uri": "https://localhost:8080/",
          "height": 1000
        },
        "outputId": "1e6dff40-892f-435b-ee92-254fe7237e2d"
      },
      "source": [
        "NCOMPONENTS = 256\n",
        "\n",
        "pca = PCA(n_components=NCOMPONENTS)\n",
        "X_256_train = pca.fit_transform(X_sc_train)\n",
        "X_256_val = pca.transform(X_sc_val)\n",
        "X_256_test = pca.transform(X_sc_test)\n",
        "\n",
        "inputShape = (16, 16, 1)\n",
        "X_256_train, X_256_val, X_256_test = shapping(inputShape, X_256_train, X_256_val, X_256_test)\n",
        "\n",
        "# initialize the optimizer and model\n",
        "print(\"Compiling model...\")\n",
        "model = ConvNet(inputShape, classes)\n",
        "model.compile(loss=\"categorical_crossentropy\", optimizer='adam',\n",
        "    metrics=[\"accuracy\"])\n",
        "\n",
        "# train the network\n",
        "print(\"Training model...\")\n",
        "H = model.fit(X_256_train, Y_train,\n",
        "    validation_data=(X_256_val, Y_val),\n",
        "    batch_size=batch_size, epochs=n_epochs, verbose=0)\n",
        "\n",
        "# make predictions on the test set\n",
        "preds = model.predict(X_256_test)\n",
        "\n",
        "# show a nicely formatted classification report\n",
        "print(\"Evaluating network...\")\n",
        "print(classification_report(Y_test.argmax(axis=1), preds.argmax(axis=1),\n",
        "    target_names=labelNames))\n",
        "\n",
        "# plot the training loss and accuracy\n",
        "plot_loss(n_epochs, H)\n",
        "plot_acc(n_epochs, H)"
      ],
      "execution_count": 11,
      "outputs": [
        {
          "output_type": "stream",
          "text": [
            "Dataset X dimensionality after reshaping to fit the CNN:\n",
            " (45000, 16, 16, 1)\n",
            "Compiling model...\n",
            "Model: \"sequential_4\"\n",
            "_________________________________________________________________\n",
            "Layer (type)                 Output Shape              Param #   \n",
            "=================================================================\n",
            "conv2d_7 (Conv2D)            (None, 16, 16, 32)        320       \n",
            "_________________________________________________________________\n",
            "max_pooling2d_7 (MaxPooling2 (None, 8, 8, 32)          0         \n",
            "_________________________________________________________________\n",
            "dropout_10 (Dropout)         (None, 8, 8, 32)          0         \n",
            "_________________________________________________________________\n",
            "conv2d_8 (Conv2D)            (None, 8, 8, 64)          18496     \n",
            "_________________________________________________________________\n",
            "max_pooling2d_8 (MaxPooling2 (None, 4, 4, 64)          0         \n",
            "_________________________________________________________________\n",
            "dropout_11 (Dropout)         (None, 4, 4, 64)          0         \n",
            "_________________________________________________________________\n",
            "flatten_4 (Flatten)          (None, 1024)              0         \n",
            "_________________________________________________________________\n",
            "dense_7 (Dense)              (None, 128)               131200    \n",
            "_________________________________________________________________\n",
            "activation_7 (Activation)    (None, 128)               0         \n",
            "_________________________________________________________________\n",
            "dropout_12 (Dropout)         (None, 128)               0         \n",
            "_________________________________________________________________\n",
            "dense_8 (Dense)              (None, 10)                1290      \n",
            "_________________________________________________________________\n",
            "activation_8 (Activation)    (None, 10)                0         \n",
            "=================================================================\n",
            "Total params: 151,306\n",
            "Trainable params: 151,306\n",
            "Non-trainable params: 0\n",
            "_________________________________________________________________\n",
            "Training model...\n",
            "Evaluating network...\n",
            "              precision    recall  f1-score   support\n",
            "\n",
            "         top       0.84      0.82      0.83      1000\n",
            "     trouser       0.99      0.97      0.98      1000\n",
            "    pullover       0.83      0.75      0.79      1000\n",
            "       dress       0.87      0.89      0.88      1000\n",
            "        coat       0.74      0.86      0.80      1000\n",
            "      sandal       0.96      0.94      0.95      1000\n",
            "       shirt       0.69      0.67      0.68      1000\n",
            "     sneaker       0.92      0.95      0.93      1000\n",
            "         bag       0.96      0.96      0.96      1000\n",
            "  ankle boot       0.95      0.94      0.95      1000\n",
            "\n",
            "    accuracy                           0.87     10000\n",
            "   macro avg       0.87      0.87      0.87     10000\n",
            "weighted avg       0.87      0.87      0.87     10000\n",
            "\n"
          ],
          "name": "stdout"
        },
        {
          "output_type": "display_data",
          "data": {
            "image/png": "[encoded data removed]",
            "text/plain": [
              "<Figure size 432x288 with 1 Axes>"
            ]
          },
          "metadata": {
            "tags": []
          }
        },
        {
          "output_type": "display_data",
          "data": {
            "image/png": "[encoded data removed]",
            "text/plain": [
              "<Figure size 432x288 with 1 Axes>"
            ]
          },
          "metadata": {
            "tags": []
          }
        }
      ]
    }
  ]
}