{
 "cells": [
  {
   "cell_type": "markdown",
   "metadata": {},
   "source": [
    "## Classifying images using the CINIC-10\n",
    "\n",
    "Giovanne Lucas, 173317, g173317@dac.unicamp.br\n",
    "Celso Mizerani, , mizeranicelso@gmail.com\n",
    "\n",
    "O objetivo deste trabalho é explorar as técnicas de classificação de regressão logística multi-classe e rede neural para determinar a melhor solução para o problema da classificação de imagens da base de dados CINIC-10, evitando overfitting."
   ]
  },
  {
   "cell_type": "markdown",
   "metadata": {},
   "source": [
    "Boa parte do código aqui apresentado foi inspirado e adaptado dos trabalhos:\n",
    "\n",
    "https://www.pugetsystems.com/labs/hpc/Machine-Learning-and-Data-Science-Multinomial-Multiclass-Logistic-Regression-1007/\n",
    "https://dataaspirant.com/2017/05/15/implement-multinomial-logistic-regression-python/\n",
    "https://github.com/erikperillo/ml-2sem2019/blob/master/notebooks/logreg-demo_2019-08-26/Trying%20out%20Logistic%20Regression.ipynb\n",
    "http://rasbt.github.io/mlxtend/user_guide/classifier/SoftmaxRegression/"
   ]
  },
  {
   "cell_type": "code",
   "execution_count": 1,
   "metadata": {},
   "outputs": [],
   "source": [
    "import pandas as pd  # data handeling\n",
    "import numpy as np   # numerical computing\n",
    "import time\n",
    "\n",
    "#plotting utilities\n",
    "from matplotlib import pyplot as plt\n",
    "from matplotlib import style\n",
    "from matplotlib import colors as mpl_colors\n",
    "plt.rcParams['figure.figsize'] = [15, 10]\n",
    "style.use('ggplot')"
   ]
  },
  {
   "cell_type": "markdown",
   "metadata": {},
   "source": [
    "1º Passo: preparar os dados para a aplicação das técnicas"
   ]
  },
  {
   "cell_type": "code",
   "execution_count": 2,
   "metadata": {},
   "outputs": [],
   "source": [
    "# function to artificially insert the bias (x0) for both models into the data as a new feature\n",
    "def prepend_ones(xs):\n",
    "    ones = np.ones(shape=(xs.shape[0], 1), dtype=xs.dtype)\n",
    "    return np.concatenate([ones, xs], axis=1)\n",
    "\n",
    "# extract and prepare data for training validation and test\n",
    "trainSet = np.load('train.npz')\n",
    "x_train, y_train = trainSet['xs'].astype(float), trainSet['ys'].astype(float)\n",
    "x_train = prepend_ones(x_train)\n",
    "\n",
    "valSet = np.load('val.npz')\n",
    "x_val, y_val = valSet['xs'].astype(float), valSet['ys'].astype(float)\n",
    "x_val = prepend_ones(x_val)\n",
    "\n",
    "testSet = np.load('test.npz')\n",
    "x_test, y_test = testSet['xs'].astype(float), testSet['ys'].astype(float)\n",
    "x_test = prepend_ones(x_test)"
   ]
  },
  {
   "cell_type": "code",
   "execution_count": 3,
   "metadata": {},
   "outputs": [
    {
     "name": "stdout",
     "output_type": "stream",
     "text": [
      "x_train.shape:  (80000, 3073) \n",
      "y_train.shape:  (80000,)\n",
      "x_train:\n",
      " [[  1. 119.  13. ...  81.  76.  76.]\n",
      " [  1. 255. 255. ...  72.  82.  69.]\n",
      " [  1.  91.  74. ... 103.  74.  35.]\n",
      " ...\n",
      " [  1.   1.   1. ...  45.  38.  30.]\n",
      " [  1. 149. 101. ... 143. 143. 143.]\n",
      " [  1. 170. 189. ... 140. 140. 132.]]\n",
      "y_train:\n",
      " [1. 9. 6. ... 3. 5. 0.]\n",
      "x_val.shape:  (10000, 3073) \n",
      "y_val.shape:  (10000,)\n",
      "x_val:\n",
      " [[  1. 102. 107. ... 118. 120. 130.]\n",
      " [  1. 114. 121. ... 115. 108. 100.]\n",
      " [  1. 224. 248. ... 128. 142.  81.]\n",
      " ...\n",
      " [  1.   5.   5. ...   1.   1.   4.]\n",
      " [  1. 241. 240. ... 100.  88.  72.]\n",
      " [  1. 136. 178. ...  34.  49.  15.]]\n",
      "y_val:\n",
      " [9. 0. 7. ... 0. 9. 9.]\n",
      "x_test.shape:  (10000, 3073) \n",
      "y_test.shape:  (10000,)\n",
      "x_test:\n",
      " [[  1.  84. 125. ...  73.  89.  21.]\n",
      " [  1. 179. 204. ... 170. 161. 140.]\n",
      " [  1. 190. 184. ... 156. 152. 143.]\n",
      " ...\n",
      " [  1. 138.  91. ... 116. 163.  50.]\n",
      " [  1. 251. 253. ... 186. 205. 215.]\n",
      " [  1. 196. 229. ...  34.  47.  55.]]\n",
      "y_test:\n",
      " [6. 9. 3. ... 1. 8. 0.]\n"
     ]
    }
   ],
   "source": [
    "# prints data\n",
    "print('x_train.shape: ', x_train.shape, '\\ny_train.shape: ', y_train.shape)\n",
    "print('x_train:\\n', x_train)\n",
    "print('y_train:\\n', y_train)\n",
    "print('x_val.shape: ', x_val.shape, '\\ny_val.shape: ', y_val.shape)\n",
    "print('x_val:\\n', x_val)\n",
    "print('y_val:\\n', y_val)\n",
    "print('x_test.shape: ', x_test.shape, '\\ny_test.shape: ', y_test.shape)\n",
    "print('x_test:\\n', x_test)\n",
    "print('y_test:\\n', y_test)"
   ]
  },
  {
   "cell_type": "markdown",
   "metadata": {},
   "source": [
    "2º Passo: preparar os valores de classe em one-hot encoding para a aplicação das técnicas"
   ]
  },
  {
   "cell_type": "code",
   "execution_count": 4,
   "metadata": {},
   "outputs": [
    {
     "name": "stdout",
     "output_type": "stream",
     "text": [
      "one-hot encoding of y_train:\n",
      " (80000, 10) \n",
      " [[0. 1. 0. ... 0. 0. 0.]\n",
      " [0. 0. 0. ... 0. 0. 1.]\n",
      " [0. 0. 0. ... 0. 0. 0.]\n",
      " ...\n",
      " [0. 0. 0. ... 0. 0. 0.]\n",
      " [0. 0. 0. ... 0. 0. 0.]\n",
      " [1. 0. 0. ... 0. 0. 0.]]\n",
      "one-hot encoding of y_val:\n",
      " (10000, 10) \n",
      " [[0. 0. 0. ... 0. 0. 1.]\n",
      " [1. 0. 0. ... 0. 0. 0.]\n",
      " [0. 0. 0. ... 1. 0. 0.]\n",
      " ...\n",
      " [1. 0. 0. ... 0. 0. 0.]\n",
      " [0. 0. 0. ... 0. 0. 1.]\n",
      " [0. 0. 0. ... 0. 0. 1.]]\n",
      "one-hot encoding of y_test:\n",
      " (10000, 10) \n",
      " [[0. 0. 0. ... 0. 0. 0.]\n",
      " [0. 0. 0. ... 0. 0. 1.]\n",
      " [0. 0. 0. ... 0. 0. 0.]\n",
      " ...\n",
      " [0. 1. 0. ... 0. 0. 0.]\n",
      " [0. 0. 0. ... 0. 1. 0.]\n",
      " [1. 0. 0. ... 0. 0. 0.]]\n"
     ]
    }
   ],
   "source": [
    "y_train = (np.arange(np.max(y_train) + 1) == y_train[:, None]).astype(float)\n",
    "y_test = (np.arange(np.max(y_test) + 1) == y_test[:, None]).astype(float)\n",
    "y_val = (np.arange(np.max(y_val) + 1) == y_val[:, None]).astype(float)\n",
    "\n",
    "print('one-hot encoding of y_train:\\n', y_train.shape, '\\n', y_train)\n",
    "print('one-hot encoding of y_val:\\n', y_val.shape, '\\n', y_val)\n",
    "print('one-hot encoding of y_test:\\n', y_test.shape, '\\n', y_test)"
   ]
  },
  {
   "cell_type": "markdown",
   "metadata": {},
   "source": [
    "Uma amostra que pertence à classe 0 (primeira coluna) tem um 1 em sua primeira posição e zero nas demais, uma amostra que pertence à classe 1 tem um 1 em sua segunda posição e zero nas demais, e assim por diante..."
   ]
  },
  {
   "cell_type": "markdown",
   "metadata": {},
   "source": [
    "3º Passo: implementar as equações que determinam o funcionamento da regressão logística"
   ]
  },
  {
   "cell_type": "code",
   "execution_count": 5,
   "metadata": {},
   "outputs": [],
   "source": [
    "# main Logistic Regression equations\n",
    "def log(z, eps=1e-32):  # numerically stable log\n",
    "    return np.log(np.maximum(z, eps))\n",
    "\n",
    "def sigmoid(z) :  # sigmoid function\n",
    "    return 1.0/(1.0 + np.exp(-z))\n",
    "\n",
    "def h_logistic(x, theta):\n",
    "    '''Hypothesis function'''\n",
    "    z = np.dot(x, theta)\n",
    "    return sigmoid(z)\n",
    "\n",
    "def softmax(z):\n",
    "    exp = np.exp(z)\n",
    "    test_sum = np.sum(exp, axis=1, keepdims=True)\n",
    "    return exp/test_sum"
   ]
  },
  {
   "cell_type": "code",
   "execution_count": 6,
   "metadata": {},
   "outputs": [
    {
     "name": "stdout",
     "output_type": "stream",
     "text": [
      "weights matrix example for the problem:\n",
      " [[0. 0. 0. ... 0. 0. 0.]\n",
      " [0. 0. 0. ... 0. 0. 0.]\n",
      " [0. 0. 0. ... 0. 0. 0.]\n",
      " ...\n",
      " [0. 0. 0. ... 0. 0. 0.]\n",
      " [0. 0. 0. ... 0. 0. 0.]\n",
      " [0. 0. 0. ... 0. 0. 0.]]\n",
      "hypothesis example for validation batch:\n",
      " [[0.5 0.5 0.5 ... 0.5 0.5 0.5]\n",
      " [0.5 0.5 0.5 ... 0.5 0.5 0.5]\n",
      " [0.5 0.5 0.5 ... 0.5 0.5 0.5]\n",
      " ...\n",
      " [0.5 0.5 0.5 ... 0.5 0.5 0.5]\n",
      " [0.5 0.5 0.5 ... 0.5 0.5 0.5]\n",
      " [0.5 0.5 0.5 ... 0.5 0.5 0.5]]\n",
      "softmax example for validation batch:\n",
      " [[0.1 0.1 0.1 ... 0.1 0.1 0.1]\n",
      " [0.1 0.1 0.1 ... 0.1 0.1 0.1]\n",
      " [0.1 0.1 0.1 ... 0.1 0.1 0.1]\n",
      " ...\n",
      " [0.1 0.1 0.1 ... 0.1 0.1 0.1]\n",
      " [0.1 0.1 0.1 ... 0.1 0.1 0.1]\n",
      " [0.1 0.1 0.1 ... 0.1 0.1 0.1]]\n"
     ]
    }
   ],
   "source": [
    "# testing weight matrix creation and LR equations\n",
    "w = np.zeros(shape=(x_train.shape[1],10)).astype(float)\n",
    "print('weights matrix example for the problem:\\n', w)\n",
    "hyp = h_logistic(x_val, w)\n",
    "print('hypothesis example for validation batch:\\n', hyp)\n",
    "smax = softmax(hyp)\n",
    "print('softmax example for validation batch:\\n', smax)"
   ]
  },
  {
   "cell_type": "markdown",
   "metadata": {},
   "source": [
    "Agora, vamos definir a matriz de features dos nossos 80000 exemplos de treino. Assumimos, portanto, u ma base de dados com 3072 features (pixels) e 1 bias, de forma que temos uma matriz 80000x3073 para os exemplos. Da mesma forma, criamos uma matriz de pesos 3073x10 que conecta cada uma das features às classes."
   ]
  },
  {
   "cell_type": "markdown",
   "metadata": {},
   "source": [
    "4º Passo: implementar as funções que serão utilizadas para executar a descida do gradiente"
   ]
  },
  {
   "cell_type": "code",
   "execution_count": 7,
   "metadata": {},
   "outputs": [
    {
     "name": "stdout",
     "output_type": "stream",
     "text": [
      "Cross Entropy example for valisation batch:\n",
      " (10000,) \n",
      " [2.30258509 2.30258509 2.30258509 ... 2.30258509 2.30258509 2.30258509]\n",
      "Cost: example for valisation batch:  2.3025850929940463\n",
      "squared_error:\n",
      " (10000, 10) \n",
      " [[0.01 0.01 0.01 ... 0.01 0.01 0.81]\n",
      " [0.81 0.01 0.01 ... 0.01 0.01 0.01]\n",
      " [0.01 0.01 0.01 ... 0.81 0.01 0.01]\n",
      " ...\n",
      " [0.81 0.01 0.01 ... 0.01 0.01 0.01]\n",
      " [0.01 0.01 0.01 ... 0.01 0.01 0.81]\n",
      " [0.01 0.01 0.01 ... 0.01 0.01 0.81]]\n"
     ]
    }
   ],
   "source": [
    "# function to compare results i the future\n",
    "def choice(z):\n",
    "    return z.argmax(axis=1)\n",
    "\n",
    "# more logistic regression equations, now for gradient descent\n",
    "def cross_entropy(y_true, y_pred):\n",
    "    return - np.sum(log(y_pred) * (y_true), axis=1)\n",
    "\n",
    "xent = cross_entropy(y_val, smax)\n",
    "print('Cross Entropy example for valisation batch:\\n', xent.shape, '\\n', xent)\n",
    "\n",
    "def cost(y_true, y_pred):\n",
    "    return np.mean(cross_entropy(y_true, y_pred))\n",
    "\n",
    "J_cost = cost(y_val, smax)\n",
    "print('Cost: example for valisation batch: ', J_cost)\n",
    "\n",
    "def squared_error(y_true, y_pred):\n",
    "    return (y_true - y_pred)**2\n",
    "\n",
    "print('squared_error:\\n', squared_error(y_val, smax).shape, '\\n', squared_error(y_val, smax))"
   ]
  },
  {
   "cell_type": "code",
   "execution_count": 8,
   "metadata": {},
   "outputs": [],
   "source": [
    "# more logistic regression equations, yet for gradient descent\n",
    "def cost_derivative(x, y_true, y_pred):\n",
    "    #print('y_pred - y_true:\\n', ueh)\n",
    "    #print('cost_derivative:\\n', np.dot(x.T, (y_pred - y_true)))\n",
    "    return np.dot(x.T, (y_pred - y_true))\n",
    "\n",
    "#def cost_derivative(x, y_true, y_pred):\n",
    "#    m = y.size\n",
    "#    return -(np.sum(log(y_pred)) + np.dot((y_true-1).T,(np.dot(x,a))))/m\n",
    "\n",
    "def gradient_descent_step(x, y_true, y_pred, theta, learning_rate):\n",
    "    grad = cost_derivative(x, y_true, y_pred)\n",
    "    #print('grad:\\n', grad)\n",
    "    step = grad * learning_rate\n",
    "    #print('step:\\n', step)\n",
    "    theta[:] = theta - step\n",
    "    #print('new theta:\\n', theta)\n",
    "    return theta"
   ]
  },
  {
   "cell_type": "code",
   "execution_count": 9,
   "metadata": {},
   "outputs": [],
   "source": [
    "# more logistic regression equations, yet for gradient descent\n",
    "def forward_step(x, y, theta):\n",
    "    '''Predicts using given theta and calculates loss'''\n",
    "    #print('forward_step theta:\\n', theta)\n",
    "    y_pred = h_logistic(x, theta)\n",
    "    y_pred = softmax(y_pred)\n",
    "    loss = cost(y, y_pred)\n",
    "    return y_pred, loss\n",
    "\n",
    "\n",
    "def gradient_descent(x, y, x_val, y_val, theta, learning_rate, n_epochs):\n",
    "    #initial values for losses and best theta\n",
    "    best_theta = theta.copy()\n",
    "    y_pred, loss = forward_step(x, y, theta)\n",
    "    _, val_loss = forward_step(x_val, y_val, theta)\n",
    "    best_val_loss = val_loss\n",
    "\n",
    "    #evolution of train/validation loss along epochs\n",
    "    history = {'loss': [loss], 'val_loss': [val_loss]}\n",
    "    \n",
    "    #main gradient descent loop\n",
    "    for k in range(n_epochs):\n",
    "        #adjust weights\n",
    "        theta = gradient_descent_step(x, y, y_pred, theta, learning_rate)\n",
    "\n",
    "        #computing losses for new weights\n",
    "        y_pred, loss = forward_step(x, y, theta)\n",
    "        _, val_loss = forward_step(x_val, y_val, theta)\n",
    "        \n",
    "        #if validation loss is the best so far, saves weights\n",
    "        if val_loss < best_val_loss:\n",
    "            best_val_loss = val_loss\n",
    "            best_theta = theta.copy()\n",
    "\n",
    "        #appending losses to history\n",
    "        history['loss'].append(loss)\n",
    "        history['val_loss'].append(val_loss)\n",
    "        \n",
    "        print(f'[epoch #{k+1:04d}/{n_epochs:04d}',\n",
    "            f'loss: {loss:.4f} | val loss: {val_loss:.4f}', end='\\r')\n",
    "    print()\n",
    "\n",
    "    return best_theta, history"
   ]
  },
  {
   "cell_type": "code",
   "execution_count": 10,
   "metadata": {},
   "outputs": [],
   "source": [
    "# training routine using gradient descent\n",
    "def train(x_train, y_train, x_val, y_val, learning_rate, n_epochs):\n",
    "    #initial theta\n",
    "    start = time.time()\n",
    "    \n",
    "    rand = np.random.RandomState(seed=None)\n",
    "    sigma = np.sqrt(2/(x_train.shape[1] + 1))\n",
    "    theta = sigma*rand.randn(x_train.shape[1], 10)\n",
    "    #theta = np.zeros((x_train.shape[1], 10))\n",
    "\n",
    "    #gradient descent optimization\n",
    "    theta, history = gradient_descent(\n",
    "        x_train, y_train, x_val, y_val,\n",
    "        theta, learning_rate, n_epochs)\n",
    "\n",
    "    elapsed = time.time() - start\n",
    "    print(f'training elapsed time for vectorized gradient descent: {elapsed:.4f}s')\n",
    "    return theta, history"
   ]
  },
  {
   "cell_type": "code",
   "execution_count": 11,
   "metadata": {},
   "outputs": [],
   "source": [
    "# plotting definitions\n",
    "def get_colors():\n",
    "    colors = [\n",
    "        '#348ABD',\n",
    "        '#E24A33',\n",
    "        '#A60628',\n",
    "        '#467821',\n",
    "        '#CF4457',\n",
    "        '#7A68A6',\n",
    "        '#188487',\n",
    "    ]\n",
    "    init_colors = set(colors)\n",
    "    other_colors = sorted(mpl_colors.cnames.keys())\n",
    "    colors.extend(c for c in other_colors if c not in init_colors)\n",
    "    return colors\n",
    "\n",
    "\n",
    "def plot_train_history(hist):\n",
    "    keys = sorted(hist.keys())\n",
    "    for k, c in zip(keys, get_colors()):\n",
    "        plt.plot(hist[k], color=c)\n",
    "    plt.legend(keys, loc='upper left')\n",
    "    plt.xlabel('epoch')\n",
    "    plt.ylabel('metric')\n",
    "    plt.title('train metrics')\n",
    "    plt.show()"
   ]
  },
  {
   "cell_type": "markdown",
   "metadata": {},
   "source": [
    "5º Passo: executar o treino com base nos dados de treino e validação"
   ]
  },
  {
   "cell_type": "code",
   "execution_count": 12,
   "metadata": {},
   "outputs": [
    {
     "name": "stdout",
     "output_type": "stream",
     "text": [
      "[epoch #0120/0120 loss: 2.1324 | val loss: 2.1376\n",
      "training elapsed time for vectorized gradient descent: 103.5493s\n"
     ]
    },
    {
     "data": {
      "image/png": "[encoded data removed]",
      "text/plain": [
       "<Figure size 432x288 with 1 Axes>"
      ]
     },
     "metadata": {
      "needs_background": "light"
     },
     "output_type": "display_data"
    }
   ],
   "source": [
    "theta, history = train(\n",
    "    x_train, y_train, x_val, y_val,\n",
    "    learning_rate=0.001,\n",
    "    n_epochs=120\n",
    ")\n",
    "plot_train_history(history)"
   ]
  },
  {
   "cell_type": "markdown",
   "metadata": {},
   "source": [
    "6º Passo: determinar uma medida de precisão para o modelo treinado nos casos de treino, validação e teste"
   ]
  },
  {
   "cell_type": "code",
   "execution_count": 13,
   "metadata": {},
   "outputs": [
    {
     "name": "stdout",
     "output_type": "stream",
     "text": [
      "training accuracy:  0.154675\n"
     ]
    }
   ],
   "source": [
    "y_pred, loss = forward_step(x_train, y_train, theta)\n",
    "pred = choice(y_pred)\n",
    "value = choice(y_train)\n",
    "summ = float(0)\n",
    "for i in range(value.shape[0]):\n",
    "    if pred[i] == value[i]:\n",
    "        summ += 1\n",
    "acc = summ/value.shape[0]\n",
    "print('training accuracy: ', acc)"
   ]
  },
  {
   "cell_type": "code",
   "execution_count": 14,
   "metadata": {},
   "outputs": [
    {
     "name": "stdout",
     "output_type": "stream",
     "text": [
      "validation accuracy:  0.1551\n"
     ]
    }
   ],
   "source": [
    "y_pred, loss = forward_step(x_val, y_val, theta)\n",
    "pred = choice(y_pred)\n",
    "value = choice(y_val)\n",
    "summ = float(0)\n",
    "for i in range(value.shape[0]):\n",
    "    if pred[i] == value[i]:\n",
    "        summ += 1\n",
    "acc = summ/value.shape[0]\n",
    "print('validation accuracy: ', acc)"
   ]
  },
  {
   "cell_type": "code",
   "execution_count": 15,
   "metadata": {},
   "outputs": [
    {
     "name": "stdout",
     "output_type": "stream",
     "text": [
      "test accuracy:  0.1521\n"
     ]
    }
   ],
   "source": [
    "y_pred, loss = forward_step(x_test, y_test, theta)\n",
    "pred = choice(y_pred)\n",
    "value = choice(y_test)\n",
    "summ = float(0)\n",
    "for i in range(value.shape[0]):\n",
    "    if pred[i] == value[i]:\n",
    "        summ += 1\n",
    "acc = summ/value.shape[0]\n",
    "print('test accuracy: ', acc)"
   ]
  },
  {
   "cell_type": "code",
   "execution_count": 16,
   "metadata": {},
   "outputs": [
    {
     "ename": "ModuleNotFoundError",
     "evalue": "No module named 'keras'",
     "output_type": "error",
     "traceback": [
      "\u001b[1;31m---------------------------------------------------------------------------\u001b[0m",
      "\u001b[1;31mModuleNotFoundError\u001b[0m                       Traceback (most recent call last)",
      "\u001b[1;32m<ipython-input-16-318e879981fc>\u001b[0m in \u001b[0;36m<module>\u001b[1;34m\u001b[0m\n\u001b[1;32m----> 1\u001b[1;33m \u001b[1;32mfrom\u001b[0m \u001b[0mkeras\u001b[0m\u001b[1;33m.\u001b[0m\u001b[0mmodels\u001b[0m \u001b[1;32mimport\u001b[0m \u001b[0mSequential\u001b[0m\u001b[1;33m\u001b[0m\u001b[1;33m\u001b[0m\u001b[0m\n\u001b[0m\u001b[0;32m      2\u001b[0m \u001b[1;32mfrom\u001b[0m \u001b[0mkeras\u001b[0m\u001b[1;33m.\u001b[0m\u001b[0mlayers\u001b[0m \u001b[1;32mimport\u001b[0m \u001b[0mDense\u001b[0m\u001b[1;33m\u001b[0m\u001b[1;33m\u001b[0m\u001b[0m\n\u001b[0;32m      3\u001b[0m \u001b[1;32mfrom\u001b[0m \u001b[0mkeras\u001b[0m\u001b[1;33m.\u001b[0m\u001b[0mwrappers\u001b[0m\u001b[1;33m.\u001b[0m\u001b[0mscikit_learn\u001b[0m \u001b[1;32mimport\u001b[0m \u001b[0mKerasClassifier\u001b[0m\u001b[1;33m\u001b[0m\u001b[1;33m\u001b[0m\u001b[0m\n\u001b[0;32m      4\u001b[0m \u001b[1;32mfrom\u001b[0m \u001b[0mkeras\u001b[0m\u001b[1;33m.\u001b[0m\u001b[0mutils\u001b[0m \u001b[1;32mimport\u001b[0m \u001b[0mnp_utils\u001b[0m\u001b[1;33m\u001b[0m\u001b[1;33m\u001b[0m\u001b[0m\n\u001b[0;32m      5\u001b[0m \u001b[1;32mfrom\u001b[0m \u001b[0msklearn\u001b[0m\u001b[1;33m.\u001b[0m\u001b[0mmodel_selection\u001b[0m \u001b[1;32mimport\u001b[0m \u001b[0mcross_val_score\u001b[0m\u001b[1;33m\u001b[0m\u001b[1;33m\u001b[0m\u001b[0m\n",
      "\u001b[1;31mModuleNotFoundError\u001b[0m: No module named 'keras'"
     ]
    }
   ],
   "source": [
    "from keras.models import Sequential\n",
    "from keras.layers import Dense\n",
    "from keras.wrappers.scikit_learn import KerasClassifier\n",
    "from keras.utils import np_utils\n",
    "from sklearn.model_selection import cross_val_score\n",
    "from sklearn.model_selection import KFold\n",
    "from sklearn.preprocessing import LabelEncoder\n",
    "from sklearn.pipeline import Pipeline"
   ]
  },
  {
   "cell_type": "code",
   "execution_count": null,
   "metadata": {},
   "outputs": [],
   "source": [
    "# define baseline model\n",
    "def baseline_model():\n",
    "    # create model\n",
    "    model = Sequential()\n",
    "    model.add(Dense(6146‬, input_dim=2073, activation='relu'))\n",
    "    model.add(Dense(10, activation='softmax'))\n",
    "    # Compile model\n",
    "    model.compile(loss='categorical_crossentropy', optimizer='adam', metrics=['accuracy'])\n",
    "    return model"
   ]
  },
  {
   "cell_type": "code",
   "execution_count": null,
   "metadata": {},
   "outputs": [],
   "source": [
    "estimator = KerasClassifier(build_fn=baseline_model, epochs=200, batch_size=1000, verbose=0)"
   ]
  },
  {
   "cell_type": "code",
   "execution_count": null,
   "metadata": {},
   "outputs": [],
   "source": [
    "kfold = KFold(n_splits=10, shuffle=True)"
   ]
  },
  {
   "cell_type": "code",
   "execution_count": null,
   "metadata": {},
   "outputs": [],
   "source": [
    "results = cross_val_score(estimator, x_test, y_test, cv=kfold)\n",
    "print(\"Baseline: %.2f%% (%.2f%%)\" % (results.mean()*100, results.std()*100))"
   ]
  }
 ],
 "metadata": {
  "kernelspec": {
   "display_name": "Python 3",
   "language": "python",
   "name": "python3"
  },
  "language_info": {
   "codemirror_mode": {
    "name": "ipython",
    "version": 3
   },
   "file_extension": ".py",
   "mimetype": "text/x-python",
   "name": "python",
   "nbconvert_exporter": "python",
   "pygments_lexer": "ipython3",
   "version": "3.7.3"
  }
 },
 "nbformat": 4,
 "nbformat_minor": 2
}
